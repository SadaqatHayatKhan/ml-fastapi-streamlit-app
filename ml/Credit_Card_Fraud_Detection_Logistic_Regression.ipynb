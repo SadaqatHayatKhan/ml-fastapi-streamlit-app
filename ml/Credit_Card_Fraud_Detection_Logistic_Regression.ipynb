{
  "cells": [
    {
      "cell_type": "markdown",
      "metadata": {
        "id": "owXCGwvmEfTE"
      },
      "source": [
        "# Credit Card Fraud Detection - Logistic Regression"
      ]
    },
    {
      "cell_type": "markdown",
      "metadata": {
        "id": "TDnoEQTWStTz"
      },
      "source": [
        "Importing the Dependencies"
      ]
    },
    {
      "cell_type": "code",
      "execution_count": 1,
      "metadata": {
        "id": "hlNfrSC1PGfZ"
      },
      "outputs": [],
      "source": [
        "import numpy as np\n",
        "import pandas as pd\n",
        "from sklearn.model_selection import train_test_split\n",
        "from sklearn.linear_model import LogisticRegression\n",
        "from sklearn.metrics import accuracy_score"
      ]
    },
    {
      "cell_type": "code",
      "execution_count": 2,
      "metadata": {
        "id": "W0CTsNioTKnJ"
      },
      "outputs": [],
      "source": [
        "# loading the dataset to a Pandas DataFrame\n",
        "credit_card_data = pd.read_csv('creditcard.csv')"
      ]
    },
    {
      "cell_type": "code",
      "execution_count": 3,
      "metadata": {
        "colab": {
          "base_uri": "https://localhost:8080/",
          "height": 255
        },
        "id": "o_iMfyHsTa6s",
        "outputId": "f7c2c3ef-2e95-4b1b-f148-8e7be582730d"
      },
      "outputs": [
        {
          "data": {
            "text/html": [
              "<div>\n",
              "<style scoped>\n",
              "    .dataframe tbody tr th:only-of-type {\n",
              "        vertical-align: middle;\n",
              "    }\n",
              "\n",
              "    .dataframe tbody tr th {\n",
              "        vertical-align: top;\n",
              "    }\n",
              "\n",
              "    .dataframe thead th {\n",
              "        text-align: right;\n",
              "    }\n",
              "</style>\n",
              "<table border=\"1\" class=\"dataframe\">\n",
              "  <thead>\n",
              "    <tr style=\"text-align: right;\">\n",
              "      <th></th>\n",
              "      <th>Time</th>\n",
              "      <th>V1</th>\n",
              "      <th>V2</th>\n",
              "      <th>V3</th>\n",
              "      <th>V4</th>\n",
              "      <th>V5</th>\n",
              "      <th>V6</th>\n",
              "      <th>V7</th>\n",
              "      <th>V8</th>\n",
              "      <th>V9</th>\n",
              "      <th>...</th>\n",
              "      <th>V21</th>\n",
              "      <th>V22</th>\n",
              "      <th>V23</th>\n",
              "      <th>V24</th>\n",
              "      <th>V25</th>\n",
              "      <th>V26</th>\n",
              "      <th>V27</th>\n",
              "      <th>V28</th>\n",
              "      <th>Amount</th>\n",
              "      <th>Class</th>\n",
              "    </tr>\n",
              "  </thead>\n",
              "  <tbody>\n",
              "    <tr>\n",
              "      <th>0</th>\n",
              "      <td>0.0</td>\n",
              "      <td>-1.359807</td>\n",
              "      <td>-0.072781</td>\n",
              "      <td>2.536347</td>\n",
              "      <td>1.378155</td>\n",
              "      <td>-0.338321</td>\n",
              "      <td>0.462388</td>\n",
              "      <td>0.239599</td>\n",
              "      <td>0.098698</td>\n",
              "      <td>0.363787</td>\n",
              "      <td>...</td>\n",
              "      <td>-0.018307</td>\n",
              "      <td>0.277838</td>\n",
              "      <td>-0.110474</td>\n",
              "      <td>0.066928</td>\n",
              "      <td>0.128539</td>\n",
              "      <td>-0.189115</td>\n",
              "      <td>0.133558</td>\n",
              "      <td>-0.021053</td>\n",
              "      <td>149.62</td>\n",
              "      <td>0</td>\n",
              "    </tr>\n",
              "    <tr>\n",
              "      <th>1</th>\n",
              "      <td>0.0</td>\n",
              "      <td>1.191857</td>\n",
              "      <td>0.266151</td>\n",
              "      <td>0.166480</td>\n",
              "      <td>0.448154</td>\n",
              "      <td>0.060018</td>\n",
              "      <td>-0.082361</td>\n",
              "      <td>-0.078803</td>\n",
              "      <td>0.085102</td>\n",
              "      <td>-0.255425</td>\n",
              "      <td>...</td>\n",
              "      <td>-0.225775</td>\n",
              "      <td>-0.638672</td>\n",
              "      <td>0.101288</td>\n",
              "      <td>-0.339846</td>\n",
              "      <td>0.167170</td>\n",
              "      <td>0.125895</td>\n",
              "      <td>-0.008983</td>\n",
              "      <td>0.014724</td>\n",
              "      <td>2.69</td>\n",
              "      <td>0</td>\n",
              "    </tr>\n",
              "    <tr>\n",
              "      <th>2</th>\n",
              "      <td>1.0</td>\n",
              "      <td>-1.358354</td>\n",
              "      <td>-1.340163</td>\n",
              "      <td>1.773209</td>\n",
              "      <td>0.379780</td>\n",
              "      <td>-0.503198</td>\n",
              "      <td>1.800499</td>\n",
              "      <td>0.791461</td>\n",
              "      <td>0.247676</td>\n",
              "      <td>-1.514654</td>\n",
              "      <td>...</td>\n",
              "      <td>0.247998</td>\n",
              "      <td>0.771679</td>\n",
              "      <td>0.909412</td>\n",
              "      <td>-0.689281</td>\n",
              "      <td>-0.327642</td>\n",
              "      <td>-0.139097</td>\n",
              "      <td>-0.055353</td>\n",
              "      <td>-0.059752</td>\n",
              "      <td>378.66</td>\n",
              "      <td>0</td>\n",
              "    </tr>\n",
              "    <tr>\n",
              "      <th>3</th>\n",
              "      <td>1.0</td>\n",
              "      <td>-0.966272</td>\n",
              "      <td>-0.185226</td>\n",
              "      <td>1.792993</td>\n",
              "      <td>-0.863291</td>\n",
              "      <td>-0.010309</td>\n",
              "      <td>1.247203</td>\n",
              "      <td>0.237609</td>\n",
              "      <td>0.377436</td>\n",
              "      <td>-1.387024</td>\n",
              "      <td>...</td>\n",
              "      <td>-0.108300</td>\n",
              "      <td>0.005274</td>\n",
              "      <td>-0.190321</td>\n",
              "      <td>-1.175575</td>\n",
              "      <td>0.647376</td>\n",
              "      <td>-0.221929</td>\n",
              "      <td>0.062723</td>\n",
              "      <td>0.061458</td>\n",
              "      <td>123.50</td>\n",
              "      <td>0</td>\n",
              "    </tr>\n",
              "    <tr>\n",
              "      <th>4</th>\n",
              "      <td>2.0</td>\n",
              "      <td>-1.158233</td>\n",
              "      <td>0.877737</td>\n",
              "      <td>1.548718</td>\n",
              "      <td>0.403034</td>\n",
              "      <td>-0.407193</td>\n",
              "      <td>0.095921</td>\n",
              "      <td>0.592941</td>\n",
              "      <td>-0.270533</td>\n",
              "      <td>0.817739</td>\n",
              "      <td>...</td>\n",
              "      <td>-0.009431</td>\n",
              "      <td>0.798278</td>\n",
              "      <td>-0.137458</td>\n",
              "      <td>0.141267</td>\n",
              "      <td>-0.206010</td>\n",
              "      <td>0.502292</td>\n",
              "      <td>0.219422</td>\n",
              "      <td>0.215153</td>\n",
              "      <td>69.99</td>\n",
              "      <td>0</td>\n",
              "    </tr>\n",
              "  </tbody>\n",
              "</table>\n",
              "<p>5 rows × 31 columns</p>\n",
              "</div>"
            ],
            "text/plain": [
              "   Time        V1        V2        V3        V4        V5        V6        V7  \\\n",
              "0   0.0 -1.359807 -0.072781  2.536347  1.378155 -0.338321  0.462388  0.239599   \n",
              "1   0.0  1.191857  0.266151  0.166480  0.448154  0.060018 -0.082361 -0.078803   \n",
              "2   1.0 -1.358354 -1.340163  1.773209  0.379780 -0.503198  1.800499  0.791461   \n",
              "3   1.0 -0.966272 -0.185226  1.792993 -0.863291 -0.010309  1.247203  0.237609   \n",
              "4   2.0 -1.158233  0.877737  1.548718  0.403034 -0.407193  0.095921  0.592941   \n",
              "\n",
              "         V8        V9  ...       V21       V22       V23       V24       V25  \\\n",
              "0  0.098698  0.363787  ... -0.018307  0.277838 -0.110474  0.066928  0.128539   \n",
              "1  0.085102 -0.255425  ... -0.225775 -0.638672  0.101288 -0.339846  0.167170   \n",
              "2  0.247676 -1.514654  ...  0.247998  0.771679  0.909412 -0.689281 -0.327642   \n",
              "3  0.377436 -1.387024  ... -0.108300  0.005274 -0.190321 -1.175575  0.647376   \n",
              "4 -0.270533  0.817739  ... -0.009431  0.798278 -0.137458  0.141267 -0.206010   \n",
              "\n",
              "        V26       V27       V28  Amount  Class  \n",
              "0 -0.189115  0.133558 -0.021053  149.62      0  \n",
              "1  0.125895 -0.008983  0.014724    2.69      0  \n",
              "2 -0.139097 -0.055353 -0.059752  378.66      0  \n",
              "3 -0.221929  0.062723  0.061458  123.50      0  \n",
              "4  0.502292  0.219422  0.215153   69.99      0  \n",
              "\n",
              "[5 rows x 31 columns]"
            ]
          },
          "execution_count": 3,
          "metadata": {},
          "output_type": "execute_result"
        }
      ],
      "source": [
        "# first 5 rows of the dataset\n",
        "credit_card_data.head()"
      ]
    },
    {
      "cell_type": "code",
      "execution_count": 4,
      "metadata": {
        "colab": {
          "base_uri": "https://localhost:8080/",
          "height": 255
        },
        "id": "iWCP6YJjThIM",
        "outputId": "c8733368-d530-4ea8-95b2-603e26a2ddb5"
      },
      "outputs": [
        {
          "data": {
            "text/html": [
              "<div>\n",
              "<style scoped>\n",
              "    .dataframe tbody tr th:only-of-type {\n",
              "        vertical-align: middle;\n",
              "    }\n",
              "\n",
              "    .dataframe tbody tr th {\n",
              "        vertical-align: top;\n",
              "    }\n",
              "\n",
              "    .dataframe thead th {\n",
              "        text-align: right;\n",
              "    }\n",
              "</style>\n",
              "<table border=\"1\" class=\"dataframe\">\n",
              "  <thead>\n",
              "    <tr style=\"text-align: right;\">\n",
              "      <th></th>\n",
              "      <th>Time</th>\n",
              "      <th>V1</th>\n",
              "      <th>V2</th>\n",
              "      <th>V3</th>\n",
              "      <th>V4</th>\n",
              "      <th>V5</th>\n",
              "      <th>V6</th>\n",
              "      <th>V7</th>\n",
              "      <th>V8</th>\n",
              "      <th>V9</th>\n",
              "      <th>...</th>\n",
              "      <th>V21</th>\n",
              "      <th>V22</th>\n",
              "      <th>V23</th>\n",
              "      <th>V24</th>\n",
              "      <th>V25</th>\n",
              "      <th>V26</th>\n",
              "      <th>V27</th>\n",
              "      <th>V28</th>\n",
              "      <th>Amount</th>\n",
              "      <th>Class</th>\n",
              "    </tr>\n",
              "  </thead>\n",
              "  <tbody>\n",
              "    <tr>\n",
              "      <th>284802</th>\n",
              "      <td>172786.0</td>\n",
              "      <td>-11.881118</td>\n",
              "      <td>10.071785</td>\n",
              "      <td>-9.834783</td>\n",
              "      <td>-2.066656</td>\n",
              "      <td>-5.364473</td>\n",
              "      <td>-2.606837</td>\n",
              "      <td>-4.918215</td>\n",
              "      <td>7.305334</td>\n",
              "      <td>1.914428</td>\n",
              "      <td>...</td>\n",
              "      <td>0.213454</td>\n",
              "      <td>0.111864</td>\n",
              "      <td>1.014480</td>\n",
              "      <td>-0.509348</td>\n",
              "      <td>1.436807</td>\n",
              "      <td>0.250034</td>\n",
              "      <td>0.943651</td>\n",
              "      <td>0.823731</td>\n",
              "      <td>0.77</td>\n",
              "      <td>0</td>\n",
              "    </tr>\n",
              "    <tr>\n",
              "      <th>284803</th>\n",
              "      <td>172787.0</td>\n",
              "      <td>-0.732789</td>\n",
              "      <td>-0.055080</td>\n",
              "      <td>2.035030</td>\n",
              "      <td>-0.738589</td>\n",
              "      <td>0.868229</td>\n",
              "      <td>1.058415</td>\n",
              "      <td>0.024330</td>\n",
              "      <td>0.294869</td>\n",
              "      <td>0.584800</td>\n",
              "      <td>...</td>\n",
              "      <td>0.214205</td>\n",
              "      <td>0.924384</td>\n",
              "      <td>0.012463</td>\n",
              "      <td>-1.016226</td>\n",
              "      <td>-0.606624</td>\n",
              "      <td>-0.395255</td>\n",
              "      <td>0.068472</td>\n",
              "      <td>-0.053527</td>\n",
              "      <td>24.79</td>\n",
              "      <td>0</td>\n",
              "    </tr>\n",
              "    <tr>\n",
              "      <th>284804</th>\n",
              "      <td>172788.0</td>\n",
              "      <td>1.919565</td>\n",
              "      <td>-0.301254</td>\n",
              "      <td>-3.249640</td>\n",
              "      <td>-0.557828</td>\n",
              "      <td>2.630515</td>\n",
              "      <td>3.031260</td>\n",
              "      <td>-0.296827</td>\n",
              "      <td>0.708417</td>\n",
              "      <td>0.432454</td>\n",
              "      <td>...</td>\n",
              "      <td>0.232045</td>\n",
              "      <td>0.578229</td>\n",
              "      <td>-0.037501</td>\n",
              "      <td>0.640134</td>\n",
              "      <td>0.265745</td>\n",
              "      <td>-0.087371</td>\n",
              "      <td>0.004455</td>\n",
              "      <td>-0.026561</td>\n",
              "      <td>67.88</td>\n",
              "      <td>0</td>\n",
              "    </tr>\n",
              "    <tr>\n",
              "      <th>284805</th>\n",
              "      <td>172788.0</td>\n",
              "      <td>-0.240440</td>\n",
              "      <td>0.530483</td>\n",
              "      <td>0.702510</td>\n",
              "      <td>0.689799</td>\n",
              "      <td>-0.377961</td>\n",
              "      <td>0.623708</td>\n",
              "      <td>-0.686180</td>\n",
              "      <td>0.679145</td>\n",
              "      <td>0.392087</td>\n",
              "      <td>...</td>\n",
              "      <td>0.265245</td>\n",
              "      <td>0.800049</td>\n",
              "      <td>-0.163298</td>\n",
              "      <td>0.123205</td>\n",
              "      <td>-0.569159</td>\n",
              "      <td>0.546668</td>\n",
              "      <td>0.108821</td>\n",
              "      <td>0.104533</td>\n",
              "      <td>10.00</td>\n",
              "      <td>0</td>\n",
              "    </tr>\n",
              "    <tr>\n",
              "      <th>284806</th>\n",
              "      <td>172792.0</td>\n",
              "      <td>-0.533413</td>\n",
              "      <td>-0.189733</td>\n",
              "      <td>0.703337</td>\n",
              "      <td>-0.506271</td>\n",
              "      <td>-0.012546</td>\n",
              "      <td>-0.649617</td>\n",
              "      <td>1.577006</td>\n",
              "      <td>-0.414650</td>\n",
              "      <td>0.486180</td>\n",
              "      <td>...</td>\n",
              "      <td>0.261057</td>\n",
              "      <td>0.643078</td>\n",
              "      <td>0.376777</td>\n",
              "      <td>0.008797</td>\n",
              "      <td>-0.473649</td>\n",
              "      <td>-0.818267</td>\n",
              "      <td>-0.002415</td>\n",
              "      <td>0.013649</td>\n",
              "      <td>217.00</td>\n",
              "      <td>0</td>\n",
              "    </tr>\n",
              "  </tbody>\n",
              "</table>\n",
              "<p>5 rows × 31 columns</p>\n",
              "</div>"
            ],
            "text/plain": [
              "            Time         V1         V2        V3        V4        V5  \\\n",
              "284802  172786.0 -11.881118  10.071785 -9.834783 -2.066656 -5.364473   \n",
              "284803  172787.0  -0.732789  -0.055080  2.035030 -0.738589  0.868229   \n",
              "284804  172788.0   1.919565  -0.301254 -3.249640 -0.557828  2.630515   \n",
              "284805  172788.0  -0.240440   0.530483  0.702510  0.689799 -0.377961   \n",
              "284806  172792.0  -0.533413  -0.189733  0.703337 -0.506271 -0.012546   \n",
              "\n",
              "              V6        V7        V8        V9  ...       V21       V22  \\\n",
              "284802 -2.606837 -4.918215  7.305334  1.914428  ...  0.213454  0.111864   \n",
              "284803  1.058415  0.024330  0.294869  0.584800  ...  0.214205  0.924384   \n",
              "284804  3.031260 -0.296827  0.708417  0.432454  ...  0.232045  0.578229   \n",
              "284805  0.623708 -0.686180  0.679145  0.392087  ...  0.265245  0.800049   \n",
              "284806 -0.649617  1.577006 -0.414650  0.486180  ...  0.261057  0.643078   \n",
              "\n",
              "             V23       V24       V25       V26       V27       V28  Amount  \\\n",
              "284802  1.014480 -0.509348  1.436807  0.250034  0.943651  0.823731    0.77   \n",
              "284803  0.012463 -1.016226 -0.606624 -0.395255  0.068472 -0.053527   24.79   \n",
              "284804 -0.037501  0.640134  0.265745 -0.087371  0.004455 -0.026561   67.88   \n",
              "284805 -0.163298  0.123205 -0.569159  0.546668  0.108821  0.104533   10.00   \n",
              "284806  0.376777  0.008797 -0.473649 -0.818267 -0.002415  0.013649  217.00   \n",
              "\n",
              "        Class  \n",
              "284802      0  \n",
              "284803      0  \n",
              "284804      0  \n",
              "284805      0  \n",
              "284806      0  \n",
              "\n",
              "[5 rows x 31 columns]"
            ]
          },
          "execution_count": 4,
          "metadata": {},
          "output_type": "execute_result"
        }
      ],
      "source": [
        "credit_card_data.tail()"
      ]
    },
    {
      "cell_type": "code",
      "execution_count": 5,
      "metadata": {
        "colab": {
          "base_uri": "https://localhost:8080/"
        },
        "id": "KcCZquvEUD3A",
        "outputId": "666283e9-0eb7-4586-c147-e7b2739d6695"
      },
      "outputs": [
        {
          "name": "stdout",
          "output_type": "stream",
          "text": [
            "<class 'pandas.core.frame.DataFrame'>\n",
            "RangeIndex: 284807 entries, 0 to 284806\n",
            "Data columns (total 31 columns):\n",
            " #   Column  Non-Null Count   Dtype  \n",
            "---  ------  --------------   -----  \n",
            " 0   Time    284807 non-null  float64\n",
            " 1   V1      284807 non-null  float64\n",
            " 2   V2      284807 non-null  float64\n",
            " 3   V3      284807 non-null  float64\n",
            " 4   V4      284807 non-null  float64\n",
            " 5   V5      284807 non-null  float64\n",
            " 6   V6      284807 non-null  float64\n",
            " 7   V7      284807 non-null  float64\n",
            " 8   V8      284807 non-null  float64\n",
            " 9   V9      284807 non-null  float64\n",
            " 10  V10     284807 non-null  float64\n",
            " 11  V11     284807 non-null  float64\n",
            " 12  V12     284807 non-null  float64\n",
            " 13  V13     284807 non-null  float64\n",
            " 14  V14     284807 non-null  float64\n",
            " 15  V15     284807 non-null  float64\n",
            " 16  V16     284807 non-null  float64\n",
            " 17  V17     284807 non-null  float64\n",
            " 18  V18     284807 non-null  float64\n",
            " 19  V19     284807 non-null  float64\n",
            " 20  V20     284807 non-null  float64\n",
            " 21  V21     284807 non-null  float64\n",
            " 22  V22     284807 non-null  float64\n",
            " 23  V23     284807 non-null  float64\n",
            " 24  V24     284807 non-null  float64\n",
            " 25  V25     284807 non-null  float64\n",
            " 26  V26     284807 non-null  float64\n",
            " 27  V27     284807 non-null  float64\n",
            " 28  V28     284807 non-null  float64\n",
            " 29  Amount  284807 non-null  float64\n",
            " 30  Class   284807 non-null  int64  \n",
            "dtypes: float64(30), int64(1)\n",
            "memory usage: 67.4 MB\n"
          ]
        }
      ],
      "source": [
        "# dataset informations\n",
        "credit_card_data.info()"
      ]
    },
    {
      "cell_type": "code",
      "execution_count": 6,
      "metadata": {
        "colab": {
          "base_uri": "https://localhost:8080/",
          "height": 1000
        },
        "id": "XxwasmfKUQiA",
        "outputId": "ce73760b-c380-42f3-9d62-29303d3ff032"
      },
      "outputs": [
        {
          "data": {
            "text/plain": [
              "Time      0\n",
              "V1        0\n",
              "V2        0\n",
              "V3        0\n",
              "V4        0\n",
              "V5        0\n",
              "V6        0\n",
              "V7        0\n",
              "V8        0\n",
              "V9        0\n",
              "V10       0\n",
              "V11       0\n",
              "V12       0\n",
              "V13       0\n",
              "V14       0\n",
              "V15       0\n",
              "V16       0\n",
              "V17       0\n",
              "V18       0\n",
              "V19       0\n",
              "V20       0\n",
              "V21       0\n",
              "V22       0\n",
              "V23       0\n",
              "V24       0\n",
              "V25       0\n",
              "V26       0\n",
              "V27       0\n",
              "V28       0\n",
              "Amount    0\n",
              "Class     0\n",
              "dtype: int64"
            ]
          },
          "execution_count": 6,
          "metadata": {},
          "output_type": "execute_result"
        }
      ],
      "source": [
        "# checking the number of missing values in each column\n",
        "credit_card_data.isnull().sum()"
      ]
    },
    {
      "cell_type": "code",
      "execution_count": 7,
      "metadata": {
        "colab": {
          "base_uri": "https://localhost:8080/",
          "height": 178
        },
        "id": "EIpoKfp5Ugri",
        "outputId": "279f94b3-d82c-4b4a-a3ac-8a3c048de28d"
      },
      "outputs": [
        {
          "data": {
            "text/plain": [
              "Class\n",
              "0    284315\n",
              "1       492\n",
              "Name: count, dtype: int64"
            ]
          },
          "execution_count": 7,
          "metadata": {},
          "output_type": "execute_result"
        }
      ],
      "source": [
        "# distribution of legit transactions & fraudulent transactions\n",
        "credit_card_data['Class'].value_counts()"
      ]
    },
    {
      "cell_type": "markdown",
      "metadata": {
        "id": "flz_InK7VGri"
      },
      "source": [
        "This Dataset is highly unblanced"
      ]
    },
    {
      "cell_type": "markdown",
      "metadata": {
        "id": "4OlMhkHzVKMv"
      },
      "source": [
        "0 --> Normal Transaction\n",
        "\n",
        "1 --> fraudulent transaction"
      ]
    },
    {
      "cell_type": "code",
      "execution_count": 8,
      "metadata": {
        "id": "QNn77bdbU2Lf"
      },
      "outputs": [],
      "source": [
        "# separating the data for analysis\n",
        "legit = credit_card_data[credit_card_data.Class == 0]\n",
        "fraud = credit_card_data[credit_card_data.Class == 1]"
      ]
    },
    {
      "cell_type": "code",
      "execution_count": 9,
      "metadata": {
        "colab": {
          "base_uri": "https://localhost:8080/"
        },
        "id": "zsrMgOdoVnrV",
        "outputId": "b2d478c3-db55-452b-e29b-5bcfdbdc00c4"
      },
      "outputs": [
        {
          "name": "stdout",
          "output_type": "stream",
          "text": [
            "(284315, 31)\n",
            "(492, 31)\n"
          ]
        }
      ],
      "source": [
        "print(legit.shape)\n",
        "print(fraud.shape)"
      ]
    },
    {
      "cell_type": "code",
      "execution_count": 10,
      "metadata": {
        "colab": {
          "base_uri": "https://localhost:8080/",
          "height": 335
        },
        "id": "1s3KGshBVsTb",
        "outputId": "a3b13b19-9c88-407e-9b6c-d98c4e1e53e3"
      },
      "outputs": [
        {
          "data": {
            "text/plain": [
              "count    284315.000000\n",
              "mean         88.291022\n",
              "std         250.105092\n",
              "min           0.000000\n",
              "25%           5.650000\n",
              "50%          22.000000\n",
              "75%          77.050000\n",
              "max       25691.160000\n",
              "Name: Amount, dtype: float64"
            ]
          },
          "execution_count": 10,
          "metadata": {},
          "output_type": "execute_result"
        }
      ],
      "source": [
        "# statistical measures of the data\n",
        "legit.Amount.describe()"
      ]
    },
    {
      "cell_type": "code",
      "execution_count": 11,
      "metadata": {
        "colab": {
          "base_uri": "https://localhost:8080/",
          "height": 335
        },
        "id": "KkU3Mzr5V7fR",
        "outputId": "fedc288a-b4c5-46c2-9bd6-c89201e3ecf3"
      },
      "outputs": [
        {
          "data": {
            "text/plain": [
              "count     492.000000\n",
              "mean      122.211321\n",
              "std       256.683288\n",
              "min         0.000000\n",
              "25%         1.000000\n",
              "50%         9.250000\n",
              "75%       105.890000\n",
              "max      2125.870000\n",
              "Name: Amount, dtype: float64"
            ]
          },
          "execution_count": 11,
          "metadata": {},
          "output_type": "execute_result"
        }
      ],
      "source": [
        "fraud.Amount.describe()"
      ]
    },
    {
      "cell_type": "code",
      "execution_count": 12,
      "metadata": {
        "colab": {
          "base_uri": "https://localhost:8080/",
          "height": 192
        },
        "id": "aFUMMHwYWMvp",
        "outputId": "6fe2c559-1b00-4045-c4c7-909ee3168337"
      },
      "outputs": [
        {
          "data": {
            "text/html": [
              "<div>\n",
              "<style scoped>\n",
              "    .dataframe tbody tr th:only-of-type {\n",
              "        vertical-align: middle;\n",
              "    }\n",
              "\n",
              "    .dataframe tbody tr th {\n",
              "        vertical-align: top;\n",
              "    }\n",
              "\n",
              "    .dataframe thead th {\n",
              "        text-align: right;\n",
              "    }\n",
              "</style>\n",
              "<table border=\"1\" class=\"dataframe\">\n",
              "  <thead>\n",
              "    <tr style=\"text-align: right;\">\n",
              "      <th></th>\n",
              "      <th>Time</th>\n",
              "      <th>V1</th>\n",
              "      <th>V2</th>\n",
              "      <th>V3</th>\n",
              "      <th>V4</th>\n",
              "      <th>V5</th>\n",
              "      <th>V6</th>\n",
              "      <th>V7</th>\n",
              "      <th>V8</th>\n",
              "      <th>V9</th>\n",
              "      <th>...</th>\n",
              "      <th>V20</th>\n",
              "      <th>V21</th>\n",
              "      <th>V22</th>\n",
              "      <th>V23</th>\n",
              "      <th>V24</th>\n",
              "      <th>V25</th>\n",
              "      <th>V26</th>\n",
              "      <th>V27</th>\n",
              "      <th>V28</th>\n",
              "      <th>Amount</th>\n",
              "    </tr>\n",
              "    <tr>\n",
              "      <th>Class</th>\n",
              "      <th></th>\n",
              "      <th></th>\n",
              "      <th></th>\n",
              "      <th></th>\n",
              "      <th></th>\n",
              "      <th></th>\n",
              "      <th></th>\n",
              "      <th></th>\n",
              "      <th></th>\n",
              "      <th></th>\n",
              "      <th></th>\n",
              "      <th></th>\n",
              "      <th></th>\n",
              "      <th></th>\n",
              "      <th></th>\n",
              "      <th></th>\n",
              "      <th></th>\n",
              "      <th></th>\n",
              "      <th></th>\n",
              "      <th></th>\n",
              "      <th></th>\n",
              "    </tr>\n",
              "  </thead>\n",
              "  <tbody>\n",
              "    <tr>\n",
              "      <th>0</th>\n",
              "      <td>94838.202258</td>\n",
              "      <td>0.008258</td>\n",
              "      <td>-0.006271</td>\n",
              "      <td>0.012171</td>\n",
              "      <td>-0.007860</td>\n",
              "      <td>0.005453</td>\n",
              "      <td>0.002419</td>\n",
              "      <td>0.009637</td>\n",
              "      <td>-0.000987</td>\n",
              "      <td>0.004467</td>\n",
              "      <td>...</td>\n",
              "      <td>-0.000644</td>\n",
              "      <td>-0.001235</td>\n",
              "      <td>-0.000024</td>\n",
              "      <td>0.000070</td>\n",
              "      <td>0.000182</td>\n",
              "      <td>-0.000072</td>\n",
              "      <td>-0.000089</td>\n",
              "      <td>-0.000295</td>\n",
              "      <td>-0.000131</td>\n",
              "      <td>88.291022</td>\n",
              "    </tr>\n",
              "    <tr>\n",
              "      <th>1</th>\n",
              "      <td>80746.806911</td>\n",
              "      <td>-4.771948</td>\n",
              "      <td>3.623778</td>\n",
              "      <td>-7.033281</td>\n",
              "      <td>4.542029</td>\n",
              "      <td>-3.151225</td>\n",
              "      <td>-1.397737</td>\n",
              "      <td>-5.568731</td>\n",
              "      <td>0.570636</td>\n",
              "      <td>-2.581123</td>\n",
              "      <td>...</td>\n",
              "      <td>0.372319</td>\n",
              "      <td>0.713588</td>\n",
              "      <td>0.014049</td>\n",
              "      <td>-0.040308</td>\n",
              "      <td>-0.105130</td>\n",
              "      <td>0.041449</td>\n",
              "      <td>0.051648</td>\n",
              "      <td>0.170575</td>\n",
              "      <td>0.075667</td>\n",
              "      <td>122.211321</td>\n",
              "    </tr>\n",
              "  </tbody>\n",
              "</table>\n",
              "<p>2 rows × 30 columns</p>\n",
              "</div>"
            ],
            "text/plain": [
              "               Time        V1        V2        V3        V4        V5  \\\n",
              "Class                                                                   \n",
              "0      94838.202258  0.008258 -0.006271  0.012171 -0.007860  0.005453   \n",
              "1      80746.806911 -4.771948  3.623778 -7.033281  4.542029 -3.151225   \n",
              "\n",
              "             V6        V7        V8        V9  ...       V20       V21  \\\n",
              "Class                                          ...                       \n",
              "0      0.002419  0.009637 -0.000987  0.004467  ... -0.000644 -0.001235   \n",
              "1     -1.397737 -5.568731  0.570636 -2.581123  ...  0.372319  0.713588   \n",
              "\n",
              "            V22       V23       V24       V25       V26       V27       V28  \\\n",
              "Class                                                                         \n",
              "0     -0.000024  0.000070  0.000182 -0.000072 -0.000089 -0.000295 -0.000131   \n",
              "1      0.014049 -0.040308 -0.105130  0.041449  0.051648  0.170575  0.075667   \n",
              "\n",
              "           Amount  \n",
              "Class              \n",
              "0       88.291022  \n",
              "1      122.211321  \n",
              "\n",
              "[2 rows x 30 columns]"
            ]
          },
          "execution_count": 12,
          "metadata": {},
          "output_type": "execute_result"
        }
      ],
      "source": [
        "# compare the values for both transactions\n",
        "credit_card_data.groupby('Class').mean()"
      ]
    },
    {
      "cell_type": "markdown",
      "metadata": {
        "id": "ybHNYPpEW0N6"
      },
      "source": [
        "Under-Sampling"
      ]
    },
    {
      "cell_type": "markdown",
      "metadata": {
        "id": "MlXkIGEIW3KM"
      },
      "source": [
        "Build a sample dataset containing similar distribution of normal transactions and Fraudulent Transactions"
      ]
    },
    {
      "cell_type": "markdown",
      "metadata": {
        "id": "bCj3Dee7XB0F"
      },
      "source": [
        "Number of Fraudulent Transactions --> 492"
      ]
    },
    {
      "cell_type": "code",
      "execution_count": 13,
      "metadata": {
        "id": "QtWT13mKWjJ_"
      },
      "outputs": [],
      "source": [
        "legit_sample = legit.sample(n=492)"
      ]
    },
    {
      "cell_type": "markdown",
      "metadata": {
        "id": "SNiYI_SmXeim"
      },
      "source": [
        "Concatenating two DataFrames"
      ]
    },
    {
      "cell_type": "code",
      "execution_count": 14,
      "metadata": {
        "id": "0yiXrYiRXcnE"
      },
      "outputs": [],
      "source": [
        "new_dataset = pd.concat([legit_sample, fraud], axis=0)"
      ]
    },
    {
      "cell_type": "code",
      "execution_count": 15,
      "metadata": {
        "colab": {
          "base_uri": "https://localhost:8080/",
          "height": 255
        },
        "id": "UuLw43AXX0bq",
        "outputId": "28b7ac62-9a94-48cd-e90a-8da51bb8a221"
      },
      "outputs": [
        {
          "data": {
            "text/html": [
              "<div>\n",
              "<style scoped>\n",
              "    .dataframe tbody tr th:only-of-type {\n",
              "        vertical-align: middle;\n",
              "    }\n",
              "\n",
              "    .dataframe tbody tr th {\n",
              "        vertical-align: top;\n",
              "    }\n",
              "\n",
              "    .dataframe thead th {\n",
              "        text-align: right;\n",
              "    }\n",
              "</style>\n",
              "<table border=\"1\" class=\"dataframe\">\n",
              "  <thead>\n",
              "    <tr style=\"text-align: right;\">\n",
              "      <th></th>\n",
              "      <th>Time</th>\n",
              "      <th>V1</th>\n",
              "      <th>V2</th>\n",
              "      <th>V3</th>\n",
              "      <th>V4</th>\n",
              "      <th>V5</th>\n",
              "      <th>V6</th>\n",
              "      <th>V7</th>\n",
              "      <th>V8</th>\n",
              "      <th>V9</th>\n",
              "      <th>...</th>\n",
              "      <th>V21</th>\n",
              "      <th>V22</th>\n",
              "      <th>V23</th>\n",
              "      <th>V24</th>\n",
              "      <th>V25</th>\n",
              "      <th>V26</th>\n",
              "      <th>V27</th>\n",
              "      <th>V28</th>\n",
              "      <th>Amount</th>\n",
              "      <th>Class</th>\n",
              "    </tr>\n",
              "  </thead>\n",
              "  <tbody>\n",
              "    <tr>\n",
              "      <th>225121</th>\n",
              "      <td>144115.0</td>\n",
              "      <td>2.260499</td>\n",
              "      <td>-0.672775</td>\n",
              "      <td>-1.730349</td>\n",
              "      <td>-1.186476</td>\n",
              "      <td>0.113699</td>\n",
              "      <td>-0.361084</td>\n",
              "      <td>-0.310538</td>\n",
              "      <td>-0.206716</td>\n",
              "      <td>-0.739631</td>\n",
              "      <td>...</td>\n",
              "      <td>0.013536</td>\n",
              "      <td>0.101338</td>\n",
              "      <td>0.052963</td>\n",
              "      <td>-1.133791</td>\n",
              "      <td>0.107662</td>\n",
              "      <td>-0.226698</td>\n",
              "      <td>-0.037289</td>\n",
              "      <td>-0.085215</td>\n",
              "      <td>4.45</td>\n",
              "      <td>0</td>\n",
              "    </tr>\n",
              "    <tr>\n",
              "      <th>108183</th>\n",
              "      <td>70800.0</td>\n",
              "      <td>-0.336279</td>\n",
              "      <td>0.237895</td>\n",
              "      <td>1.158456</td>\n",
              "      <td>-0.636549</td>\n",
              "      <td>-0.311637</td>\n",
              "      <td>-0.927103</td>\n",
              "      <td>0.216604</td>\n",
              "      <td>-0.403082</td>\n",
              "      <td>-0.869822</td>\n",
              "      <td>...</td>\n",
              "      <td>0.000923</td>\n",
              "      <td>0.143971</td>\n",
              "      <td>-0.129530</td>\n",
              "      <td>0.318251</td>\n",
              "      <td>-0.541146</td>\n",
              "      <td>-0.357414</td>\n",
              "      <td>-0.229982</td>\n",
              "      <td>-0.030124</td>\n",
              "      <td>24.20</td>\n",
              "      <td>0</td>\n",
              "    </tr>\n",
              "    <tr>\n",
              "      <th>38164</th>\n",
              "      <td>39275.0</td>\n",
              "      <td>0.682937</td>\n",
              "      <td>-1.238963</td>\n",
              "      <td>0.175810</td>\n",
              "      <td>0.173947</td>\n",
              "      <td>-1.216823</td>\n",
              "      <td>-0.830748</td>\n",
              "      <td>0.212475</td>\n",
              "      <td>-0.254708</td>\n",
              "      <td>-1.226619</td>\n",
              "      <td>...</td>\n",
              "      <td>-0.607266</td>\n",
              "      <td>-2.038630</td>\n",
              "      <td>0.159879</td>\n",
              "      <td>0.540260</td>\n",
              "      <td>-0.297752</td>\n",
              "      <td>-0.059129</td>\n",
              "      <td>-0.068444</td>\n",
              "      <td>0.079447</td>\n",
              "      <td>325.00</td>\n",
              "      <td>0</td>\n",
              "    </tr>\n",
              "    <tr>\n",
              "      <th>32756</th>\n",
              "      <td>36954.0</td>\n",
              "      <td>-1.941225</td>\n",
              "      <td>0.435545</td>\n",
              "      <td>0.997097</td>\n",
              "      <td>-2.045171</td>\n",
              "      <td>-0.395036</td>\n",
              "      <td>1.390221</td>\n",
              "      <td>-1.123411</td>\n",
              "      <td>1.476314</td>\n",
              "      <td>-1.129013</td>\n",
              "      <td>...</td>\n",
              "      <td>0.473747</td>\n",
              "      <td>1.128773</td>\n",
              "      <td>-0.147225</td>\n",
              "      <td>-1.502897</td>\n",
              "      <td>0.290684</td>\n",
              "      <td>-0.023788</td>\n",
              "      <td>-0.120322</td>\n",
              "      <td>-0.108677</td>\n",
              "      <td>7.80</td>\n",
              "      <td>0</td>\n",
              "    </tr>\n",
              "    <tr>\n",
              "      <th>81819</th>\n",
              "      <td>59104.0</td>\n",
              "      <td>-0.338955</td>\n",
              "      <td>1.037497</td>\n",
              "      <td>1.268783</td>\n",
              "      <td>0.074669</td>\n",
              "      <td>-0.089799</td>\n",
              "      <td>-1.020116</td>\n",
              "      <td>0.612253</td>\n",
              "      <td>0.005464</td>\n",
              "      <td>-0.185935</td>\n",
              "      <td>...</td>\n",
              "      <td>-0.280710</td>\n",
              "      <td>-0.801701</td>\n",
              "      <td>-0.002839</td>\n",
              "      <td>0.296801</td>\n",
              "      <td>-0.208066</td>\n",
              "      <td>0.076527</td>\n",
              "      <td>0.237328</td>\n",
              "      <td>0.095196</td>\n",
              "      <td>1.29</td>\n",
              "      <td>0</td>\n",
              "    </tr>\n",
              "  </tbody>\n",
              "</table>\n",
              "<p>5 rows × 31 columns</p>\n",
              "</div>"
            ],
            "text/plain": [
              "            Time        V1        V2        V3        V4        V5        V6  \\\n",
              "225121  144115.0  2.260499 -0.672775 -1.730349 -1.186476  0.113699 -0.361084   \n",
              "108183   70800.0 -0.336279  0.237895  1.158456 -0.636549 -0.311637 -0.927103   \n",
              "38164    39275.0  0.682937 -1.238963  0.175810  0.173947 -1.216823 -0.830748   \n",
              "32756    36954.0 -1.941225  0.435545  0.997097 -2.045171 -0.395036  1.390221   \n",
              "81819    59104.0 -0.338955  1.037497  1.268783  0.074669 -0.089799 -1.020116   \n",
              "\n",
              "              V7        V8        V9  ...       V21       V22       V23  \\\n",
              "225121 -0.310538 -0.206716 -0.739631  ...  0.013536  0.101338  0.052963   \n",
              "108183  0.216604 -0.403082 -0.869822  ...  0.000923  0.143971 -0.129530   \n",
              "38164   0.212475 -0.254708 -1.226619  ... -0.607266 -2.038630  0.159879   \n",
              "32756  -1.123411  1.476314 -1.129013  ...  0.473747  1.128773 -0.147225   \n",
              "81819   0.612253  0.005464 -0.185935  ... -0.280710 -0.801701 -0.002839   \n",
              "\n",
              "             V24       V25       V26       V27       V28  Amount  Class  \n",
              "225121 -1.133791  0.107662 -0.226698 -0.037289 -0.085215    4.45      0  \n",
              "108183  0.318251 -0.541146 -0.357414 -0.229982 -0.030124   24.20      0  \n",
              "38164   0.540260 -0.297752 -0.059129 -0.068444  0.079447  325.00      0  \n",
              "32756  -1.502897  0.290684 -0.023788 -0.120322 -0.108677    7.80      0  \n",
              "81819   0.296801 -0.208066  0.076527  0.237328  0.095196    1.29      0  \n",
              "\n",
              "[5 rows x 31 columns]"
            ]
          },
          "execution_count": 15,
          "metadata": {},
          "output_type": "execute_result"
        }
      ],
      "source": [
        "new_dataset.head()"
      ]
    },
    {
      "cell_type": "code",
      "execution_count": 16,
      "metadata": {
        "colab": {
          "base_uri": "https://localhost:8080/",
          "height": 255
        },
        "id": "n_Rjt1qDX3AQ",
        "outputId": "8cc4cd03-8104-48bf-cd3e-fa77332929fd"
      },
      "outputs": [
        {
          "data": {
            "text/html": [
              "<div>\n",
              "<style scoped>\n",
              "    .dataframe tbody tr th:only-of-type {\n",
              "        vertical-align: middle;\n",
              "    }\n",
              "\n",
              "    .dataframe tbody tr th {\n",
              "        vertical-align: top;\n",
              "    }\n",
              "\n",
              "    .dataframe thead th {\n",
              "        text-align: right;\n",
              "    }\n",
              "</style>\n",
              "<table border=\"1\" class=\"dataframe\">\n",
              "  <thead>\n",
              "    <tr style=\"text-align: right;\">\n",
              "      <th></th>\n",
              "      <th>Time</th>\n",
              "      <th>V1</th>\n",
              "      <th>V2</th>\n",
              "      <th>V3</th>\n",
              "      <th>V4</th>\n",
              "      <th>V5</th>\n",
              "      <th>V6</th>\n",
              "      <th>V7</th>\n",
              "      <th>V8</th>\n",
              "      <th>V9</th>\n",
              "      <th>...</th>\n",
              "      <th>V21</th>\n",
              "      <th>V22</th>\n",
              "      <th>V23</th>\n",
              "      <th>V24</th>\n",
              "      <th>V25</th>\n",
              "      <th>V26</th>\n",
              "      <th>V27</th>\n",
              "      <th>V28</th>\n",
              "      <th>Amount</th>\n",
              "      <th>Class</th>\n",
              "    </tr>\n",
              "  </thead>\n",
              "  <tbody>\n",
              "    <tr>\n",
              "      <th>279863</th>\n",
              "      <td>169142.0</td>\n",
              "      <td>-1.927883</td>\n",
              "      <td>1.125653</td>\n",
              "      <td>-4.518331</td>\n",
              "      <td>1.749293</td>\n",
              "      <td>-1.566487</td>\n",
              "      <td>-2.010494</td>\n",
              "      <td>-0.882850</td>\n",
              "      <td>0.697211</td>\n",
              "      <td>-2.064945</td>\n",
              "      <td>...</td>\n",
              "      <td>0.778584</td>\n",
              "      <td>-0.319189</td>\n",
              "      <td>0.639419</td>\n",
              "      <td>-0.294885</td>\n",
              "      <td>0.537503</td>\n",
              "      <td>0.788395</td>\n",
              "      <td>0.292680</td>\n",
              "      <td>0.147968</td>\n",
              "      <td>390.00</td>\n",
              "      <td>1</td>\n",
              "    </tr>\n",
              "    <tr>\n",
              "      <th>280143</th>\n",
              "      <td>169347.0</td>\n",
              "      <td>1.378559</td>\n",
              "      <td>1.289381</td>\n",
              "      <td>-5.004247</td>\n",
              "      <td>1.411850</td>\n",
              "      <td>0.442581</td>\n",
              "      <td>-1.326536</td>\n",
              "      <td>-1.413170</td>\n",
              "      <td>0.248525</td>\n",
              "      <td>-1.127396</td>\n",
              "      <td>...</td>\n",
              "      <td>0.370612</td>\n",
              "      <td>0.028234</td>\n",
              "      <td>-0.145640</td>\n",
              "      <td>-0.081049</td>\n",
              "      <td>0.521875</td>\n",
              "      <td>0.739467</td>\n",
              "      <td>0.389152</td>\n",
              "      <td>0.186637</td>\n",
              "      <td>0.76</td>\n",
              "      <td>1</td>\n",
              "    </tr>\n",
              "    <tr>\n",
              "      <th>280149</th>\n",
              "      <td>169351.0</td>\n",
              "      <td>-0.676143</td>\n",
              "      <td>1.126366</td>\n",
              "      <td>-2.213700</td>\n",
              "      <td>0.468308</td>\n",
              "      <td>-1.120541</td>\n",
              "      <td>-0.003346</td>\n",
              "      <td>-2.234739</td>\n",
              "      <td>1.210158</td>\n",
              "      <td>-0.652250</td>\n",
              "      <td>...</td>\n",
              "      <td>0.751826</td>\n",
              "      <td>0.834108</td>\n",
              "      <td>0.190944</td>\n",
              "      <td>0.032070</td>\n",
              "      <td>-0.739695</td>\n",
              "      <td>0.471111</td>\n",
              "      <td>0.385107</td>\n",
              "      <td>0.194361</td>\n",
              "      <td>77.89</td>\n",
              "      <td>1</td>\n",
              "    </tr>\n",
              "    <tr>\n",
              "      <th>281144</th>\n",
              "      <td>169966.0</td>\n",
              "      <td>-3.113832</td>\n",
              "      <td>0.585864</td>\n",
              "      <td>-5.399730</td>\n",
              "      <td>1.817092</td>\n",
              "      <td>-0.840618</td>\n",
              "      <td>-2.943548</td>\n",
              "      <td>-2.208002</td>\n",
              "      <td>1.058733</td>\n",
              "      <td>-1.632333</td>\n",
              "      <td>...</td>\n",
              "      <td>0.583276</td>\n",
              "      <td>-0.269209</td>\n",
              "      <td>-0.456108</td>\n",
              "      <td>-0.183659</td>\n",
              "      <td>-0.328168</td>\n",
              "      <td>0.606116</td>\n",
              "      <td>0.884876</td>\n",
              "      <td>-0.253700</td>\n",
              "      <td>245.00</td>\n",
              "      <td>1</td>\n",
              "    </tr>\n",
              "    <tr>\n",
              "      <th>281674</th>\n",
              "      <td>170348.0</td>\n",
              "      <td>1.991976</td>\n",
              "      <td>0.158476</td>\n",
              "      <td>-2.583441</td>\n",
              "      <td>0.408670</td>\n",
              "      <td>1.151147</td>\n",
              "      <td>-0.096695</td>\n",
              "      <td>0.223050</td>\n",
              "      <td>-0.068384</td>\n",
              "      <td>0.577829</td>\n",
              "      <td>...</td>\n",
              "      <td>-0.164350</td>\n",
              "      <td>-0.295135</td>\n",
              "      <td>-0.072173</td>\n",
              "      <td>-0.450261</td>\n",
              "      <td>0.313267</td>\n",
              "      <td>-0.289617</td>\n",
              "      <td>0.002988</td>\n",
              "      <td>-0.015309</td>\n",
              "      <td>42.53</td>\n",
              "      <td>1</td>\n",
              "    </tr>\n",
              "  </tbody>\n",
              "</table>\n",
              "<p>5 rows × 31 columns</p>\n",
              "</div>"
            ],
            "text/plain": [
              "            Time        V1        V2        V3        V4        V5        V6  \\\n",
              "279863  169142.0 -1.927883  1.125653 -4.518331  1.749293 -1.566487 -2.010494   \n",
              "280143  169347.0  1.378559  1.289381 -5.004247  1.411850  0.442581 -1.326536   \n",
              "280149  169351.0 -0.676143  1.126366 -2.213700  0.468308 -1.120541 -0.003346   \n",
              "281144  169966.0 -3.113832  0.585864 -5.399730  1.817092 -0.840618 -2.943548   \n",
              "281674  170348.0  1.991976  0.158476 -2.583441  0.408670  1.151147 -0.096695   \n",
              "\n",
              "              V7        V8        V9  ...       V21       V22       V23  \\\n",
              "279863 -0.882850  0.697211 -2.064945  ...  0.778584 -0.319189  0.639419   \n",
              "280143 -1.413170  0.248525 -1.127396  ...  0.370612  0.028234 -0.145640   \n",
              "280149 -2.234739  1.210158 -0.652250  ...  0.751826  0.834108  0.190944   \n",
              "281144 -2.208002  1.058733 -1.632333  ...  0.583276 -0.269209 -0.456108   \n",
              "281674  0.223050 -0.068384  0.577829  ... -0.164350 -0.295135 -0.072173   \n",
              "\n",
              "             V24       V25       V26       V27       V28  Amount  Class  \n",
              "279863 -0.294885  0.537503  0.788395  0.292680  0.147968  390.00      1  \n",
              "280143 -0.081049  0.521875  0.739467  0.389152  0.186637    0.76      1  \n",
              "280149  0.032070 -0.739695  0.471111  0.385107  0.194361   77.89      1  \n",
              "281144 -0.183659 -0.328168  0.606116  0.884876 -0.253700  245.00      1  \n",
              "281674 -0.450261  0.313267 -0.289617  0.002988 -0.015309   42.53      1  \n",
              "\n",
              "[5 rows x 31 columns]"
            ]
          },
          "execution_count": 16,
          "metadata": {},
          "output_type": "execute_result"
        }
      ],
      "source": [
        "new_dataset.tail()"
      ]
    },
    {
      "cell_type": "code",
      "execution_count": 17,
      "metadata": {
        "colab": {
          "base_uri": "https://localhost:8080/",
          "height": 178
        },
        "id": "bFsRcj0gX-3M",
        "outputId": "f4e8c041-72f0-46bd-e843-a7473a647600"
      },
      "outputs": [
        {
          "data": {
            "text/plain": [
              "Class\n",
              "0    492\n",
              "1    492\n",
              "Name: count, dtype: int64"
            ]
          },
          "execution_count": 17,
          "metadata": {},
          "output_type": "execute_result"
        }
      ],
      "source": [
        "new_dataset['Class'].value_counts()"
      ]
    },
    {
      "cell_type": "code",
      "execution_count": 18,
      "metadata": {
        "colab": {
          "base_uri": "https://localhost:8080/",
          "height": 192
        },
        "id": "jan1xMeWYLrM",
        "outputId": "07622f74-66ed-4537-f112-1a5908cedd17"
      },
      "outputs": [
        {
          "data": {
            "text/html": [
              "<div>\n",
              "<style scoped>\n",
              "    .dataframe tbody tr th:only-of-type {\n",
              "        vertical-align: middle;\n",
              "    }\n",
              "\n",
              "    .dataframe tbody tr th {\n",
              "        vertical-align: top;\n",
              "    }\n",
              "\n",
              "    .dataframe thead th {\n",
              "        text-align: right;\n",
              "    }\n",
              "</style>\n",
              "<table border=\"1\" class=\"dataframe\">\n",
              "  <thead>\n",
              "    <tr style=\"text-align: right;\">\n",
              "      <th></th>\n",
              "      <th>Time</th>\n",
              "      <th>V1</th>\n",
              "      <th>V2</th>\n",
              "      <th>V3</th>\n",
              "      <th>V4</th>\n",
              "      <th>V5</th>\n",
              "      <th>V6</th>\n",
              "      <th>V7</th>\n",
              "      <th>V8</th>\n",
              "      <th>V9</th>\n",
              "      <th>...</th>\n",
              "      <th>V20</th>\n",
              "      <th>V21</th>\n",
              "      <th>V22</th>\n",
              "      <th>V23</th>\n",
              "      <th>V24</th>\n",
              "      <th>V25</th>\n",
              "      <th>V26</th>\n",
              "      <th>V27</th>\n",
              "      <th>V28</th>\n",
              "      <th>Amount</th>\n",
              "    </tr>\n",
              "    <tr>\n",
              "      <th>Class</th>\n",
              "      <th></th>\n",
              "      <th></th>\n",
              "      <th></th>\n",
              "      <th></th>\n",
              "      <th></th>\n",
              "      <th></th>\n",
              "      <th></th>\n",
              "      <th></th>\n",
              "      <th></th>\n",
              "      <th></th>\n",
              "      <th></th>\n",
              "      <th></th>\n",
              "      <th></th>\n",
              "      <th></th>\n",
              "      <th></th>\n",
              "      <th></th>\n",
              "      <th></th>\n",
              "      <th></th>\n",
              "      <th></th>\n",
              "      <th></th>\n",
              "      <th></th>\n",
              "    </tr>\n",
              "  </thead>\n",
              "  <tbody>\n",
              "    <tr>\n",
              "      <th>0</th>\n",
              "      <td>94869.241870</td>\n",
              "      <td>-0.014055</td>\n",
              "      <td>0.010790</td>\n",
              "      <td>-0.046410</td>\n",
              "      <td>0.072048</td>\n",
              "      <td>-0.130259</td>\n",
              "      <td>-0.094485</td>\n",
              "      <td>0.051473</td>\n",
              "      <td>-0.013839</td>\n",
              "      <td>-0.037094</td>\n",
              "      <td>...</td>\n",
              "      <td>0.035146</td>\n",
              "      <td>0.076748</td>\n",
              "      <td>0.022100</td>\n",
              "      <td>-0.017275</td>\n",
              "      <td>-0.015776</td>\n",
              "      <td>0.010089</td>\n",
              "      <td>-0.019518</td>\n",
              "      <td>-0.015508</td>\n",
              "      <td>-0.003220</td>\n",
              "      <td>104.854512</td>\n",
              "    </tr>\n",
              "    <tr>\n",
              "      <th>1</th>\n",
              "      <td>80746.806911</td>\n",
              "      <td>-4.771948</td>\n",
              "      <td>3.623778</td>\n",
              "      <td>-7.033281</td>\n",
              "      <td>4.542029</td>\n",
              "      <td>-3.151225</td>\n",
              "      <td>-1.397737</td>\n",
              "      <td>-5.568731</td>\n",
              "      <td>0.570636</td>\n",
              "      <td>-2.581123</td>\n",
              "      <td>...</td>\n",
              "      <td>0.372319</td>\n",
              "      <td>0.713588</td>\n",
              "      <td>0.014049</td>\n",
              "      <td>-0.040308</td>\n",
              "      <td>-0.105130</td>\n",
              "      <td>0.041449</td>\n",
              "      <td>0.051648</td>\n",
              "      <td>0.170575</td>\n",
              "      <td>0.075667</td>\n",
              "      <td>122.211321</td>\n",
              "    </tr>\n",
              "  </tbody>\n",
              "</table>\n",
              "<p>2 rows × 30 columns</p>\n",
              "</div>"
            ],
            "text/plain": [
              "               Time        V1        V2        V3        V4        V5  \\\n",
              "Class                                                                   \n",
              "0      94869.241870 -0.014055  0.010790 -0.046410  0.072048 -0.130259   \n",
              "1      80746.806911 -4.771948  3.623778 -7.033281  4.542029 -3.151225   \n",
              "\n",
              "             V6        V7        V8        V9  ...       V20       V21  \\\n",
              "Class                                          ...                       \n",
              "0     -0.094485  0.051473 -0.013839 -0.037094  ...  0.035146  0.076748   \n",
              "1     -1.397737 -5.568731  0.570636 -2.581123  ...  0.372319  0.713588   \n",
              "\n",
              "            V22       V23       V24       V25       V26       V27       V28  \\\n",
              "Class                                                                         \n",
              "0      0.022100 -0.017275 -0.015776  0.010089 -0.019518 -0.015508 -0.003220   \n",
              "1      0.014049 -0.040308 -0.105130  0.041449  0.051648  0.170575  0.075667   \n",
              "\n",
              "           Amount  \n",
              "Class              \n",
              "0      104.854512  \n",
              "1      122.211321  \n",
              "\n",
              "[2 rows x 30 columns]"
            ]
          },
          "execution_count": 18,
          "metadata": {},
          "output_type": "execute_result"
        }
      ],
      "source": [
        "new_dataset.groupby('Class').mean()"
      ]
    },
    {
      "cell_type": "markdown",
      "metadata": {
        "id": "wbe0g12oYhyK"
      },
      "source": [
        "Splitting the data into Features & Targets"
      ]
    },
    {
      "cell_type": "code",
      "execution_count": 19,
      "metadata": {
        "id": "oiC0OOyUYUoD"
      },
      "outputs": [],
      "source": [
        "X = new_dataset.drop(columns='Class', axis=1)\n",
        "Y = new_dataset['Class']"
      ]
    },
    {
      "cell_type": "code",
      "execution_count": 20,
      "metadata": {
        "colab": {
          "base_uri": "https://localhost:8080/"
        },
        "id": "9u7wbWqzYyrI",
        "outputId": "79079c84-b707-4566-fabd-187bbcfa6f5a"
      },
      "outputs": [
        {
          "name": "stdout",
          "output_type": "stream",
          "text": [
            "            Time        V1        V2        V3        V4        V5        V6  \\\n",
            "225121  144115.0  2.260499 -0.672775 -1.730349 -1.186476  0.113699 -0.361084   \n",
            "108183   70800.0 -0.336279  0.237895  1.158456 -0.636549 -0.311637 -0.927103   \n",
            "38164    39275.0  0.682937 -1.238963  0.175810  0.173947 -1.216823 -0.830748   \n",
            "32756    36954.0 -1.941225  0.435545  0.997097 -2.045171 -0.395036  1.390221   \n",
            "81819    59104.0 -0.338955  1.037497  1.268783  0.074669 -0.089799 -1.020116   \n",
            "...          ...       ...       ...       ...       ...       ...       ...   \n",
            "279863  169142.0 -1.927883  1.125653 -4.518331  1.749293 -1.566487 -2.010494   \n",
            "280143  169347.0  1.378559  1.289381 -5.004247  1.411850  0.442581 -1.326536   \n",
            "280149  169351.0 -0.676143  1.126366 -2.213700  0.468308 -1.120541 -0.003346   \n",
            "281144  169966.0 -3.113832  0.585864 -5.399730  1.817092 -0.840618 -2.943548   \n",
            "281674  170348.0  1.991976  0.158476 -2.583441  0.408670  1.151147 -0.096695   \n",
            "\n",
            "              V7        V8        V9  ...       V20       V21       V22  \\\n",
            "225121 -0.310538 -0.206716 -0.739631  ...  0.001653  0.013536  0.101338   \n",
            "108183  0.216604 -0.403082 -0.869822  ...  0.158796  0.000923  0.143971   \n",
            "38164   0.212475 -0.254708 -1.226619  ...  0.099017 -0.607266 -2.038630   \n",
            "32756  -1.123411  1.476314 -1.129013  ... -0.241644  0.473747  1.128773   \n",
            "81819   0.612253  0.005464 -0.185935  ...  0.021266 -0.280710 -0.801701   \n",
            "...          ...       ...       ...  ...       ...       ...       ...   \n",
            "279863 -0.882850  0.697211 -2.064945  ...  1.252967  0.778584 -0.319189   \n",
            "280143 -1.413170  0.248525 -1.127396  ...  0.226138  0.370612  0.028234   \n",
            "280149 -2.234739  1.210158 -0.652250  ...  0.247968  0.751826  0.834108   \n",
            "281144 -2.208002  1.058733 -1.632333  ...  0.306271  0.583276 -0.269209   \n",
            "281674  0.223050 -0.068384  0.577829  ... -0.017652 -0.164350 -0.295135   \n",
            "\n",
            "             V23       V24       V25       V26       V27       V28  Amount  \n",
            "225121  0.052963 -1.133791  0.107662 -0.226698 -0.037289 -0.085215    4.45  \n",
            "108183 -0.129530  0.318251 -0.541146 -0.357414 -0.229982 -0.030124   24.20  \n",
            "38164   0.159879  0.540260 -0.297752 -0.059129 -0.068444  0.079447  325.00  \n",
            "32756  -0.147225 -1.502897  0.290684 -0.023788 -0.120322 -0.108677    7.80  \n",
            "81819  -0.002839  0.296801 -0.208066  0.076527  0.237328  0.095196    1.29  \n",
            "...          ...       ...       ...       ...       ...       ...     ...  \n",
            "279863  0.639419 -0.294885  0.537503  0.788395  0.292680  0.147968  390.00  \n",
            "280143 -0.145640 -0.081049  0.521875  0.739467  0.389152  0.186637    0.76  \n",
            "280149  0.190944  0.032070 -0.739695  0.471111  0.385107  0.194361   77.89  \n",
            "281144 -0.456108 -0.183659 -0.328168  0.606116  0.884876 -0.253700  245.00  \n",
            "281674 -0.072173 -0.450261  0.313267 -0.289617  0.002988 -0.015309   42.53  \n",
            "\n",
            "[984 rows x 30 columns]\n"
          ]
        }
      ],
      "source": [
        "print(X)"
      ]
    },
    {
      "cell_type": "code",
      "execution_count": 21,
      "metadata": {
        "colab": {
          "base_uri": "https://localhost:8080/"
        },
        "id": "EHnRPzZvYz-F",
        "outputId": "78b658e3-c8f9-415b-ed87-ce3b7e99ec4f"
      },
      "outputs": [
        {
          "name": "stdout",
          "output_type": "stream",
          "text": [
            "225121    0\n",
            "108183    0\n",
            "38164     0\n",
            "32756     0\n",
            "81819     0\n",
            "         ..\n",
            "279863    1\n",
            "280143    1\n",
            "280149    1\n",
            "281144    1\n",
            "281674    1\n",
            "Name: Class, Length: 984, dtype: int64\n"
          ]
        }
      ],
      "source": [
        "print(Y)"
      ]
    },
    {
      "cell_type": "markdown",
      "metadata": {
        "id": "78wEbV41Y6j3"
      },
      "source": [
        "Split the data into Training data & Testing Data"
      ]
    },
    {
      "cell_type": "code",
      "execution_count": 22,
      "metadata": {
        "id": "FrsqqwT0Y3n5"
      },
      "outputs": [],
      "source": [
        "X_train, X_test, Y_train, Y_test = train_test_split(X, Y, test_size=0.2, stratify=Y, random_state=2)"
      ]
    },
    {
      "cell_type": "code",
      "execution_count": 23,
      "metadata": {
        "colab": {
          "base_uri": "https://localhost:8080/"
        },
        "id": "FUmwXz99ZuvK",
        "outputId": "0cc0d2da-31a1-44d7-aceb-497effc7b1e0"
      },
      "outputs": [
        {
          "name": "stdout",
          "output_type": "stream",
          "text": [
            "(984, 30) (787, 30) (197, 30)\n"
          ]
        }
      ],
      "source": [
        "print(X.shape, X_train.shape, X_test.shape)"
      ]
    },
    {
      "cell_type": "markdown",
      "metadata": {
        "id": "aowgjqbeZ7d1"
      },
      "source": [
        "Model Training"
      ]
    },
    {
      "cell_type": "markdown",
      "metadata": {
        "id": "i0NkjaxyZ96E"
      },
      "source": [
        "Logistic Regression"
      ]
    },
    {
      "cell_type": "code",
      "execution_count": 24,
      "metadata": {
        "id": "i0HHd1v8Z2Mq"
      },
      "outputs": [],
      "source": [
        "model = LogisticRegression()"
      ]
    },
    {
      "cell_type": "code",
      "execution_count": 25,
      "metadata": {
        "colab": {
          "base_uri": "https://localhost:8080/",
          "height": 238
        },
        "id": "_rshSouvaGrv",
        "outputId": "cdb4736d-b864-41a6-be7c-d5c74f05abf9"
      },
      "outputs": [
        {
          "data": {
            "text/html": [
              "<style>#sk-container-id-1 {color: black;}#sk-container-id-1 pre{padding: 0;}#sk-container-id-1 div.sk-toggleable {background-color: white;}#sk-container-id-1 label.sk-toggleable__label {cursor: pointer;display: block;width: 100%;margin-bottom: 0;padding: 0.3em;box-sizing: border-box;text-align: center;}#sk-container-id-1 label.sk-toggleable__label-arrow:before {content: \"▸\";float: left;margin-right: 0.25em;color: #696969;}#sk-container-id-1 label.sk-toggleable__label-arrow:hover:before {color: black;}#sk-container-id-1 div.sk-estimator:hover label.sk-toggleable__label-arrow:before {color: black;}#sk-container-id-1 div.sk-toggleable__content {max-height: 0;max-width: 0;overflow: hidden;text-align: left;background-color: #f0f8ff;}#sk-container-id-1 div.sk-toggleable__content pre {margin: 0.2em;color: black;border-radius: 0.25em;background-color: #f0f8ff;}#sk-container-id-1 input.sk-toggleable__control:checked~div.sk-toggleable__content {max-height: 200px;max-width: 100%;overflow: auto;}#sk-container-id-1 input.sk-toggleable__control:checked~label.sk-toggleable__label-arrow:before {content: \"▾\";}#sk-container-id-1 div.sk-estimator input.sk-toggleable__control:checked~label.sk-toggleable__label {background-color: #d4ebff;}#sk-container-id-1 div.sk-label input.sk-toggleable__control:checked~label.sk-toggleable__label {background-color: #d4ebff;}#sk-container-id-1 input.sk-hidden--visually {border: 0;clip: rect(1px 1px 1px 1px);clip: rect(1px, 1px, 1px, 1px);height: 1px;margin: -1px;overflow: hidden;padding: 0;position: absolute;width: 1px;}#sk-container-id-1 div.sk-estimator {font-family: monospace;background-color: #f0f8ff;border: 1px dotted black;border-radius: 0.25em;box-sizing: border-box;margin-bottom: 0.5em;}#sk-container-id-1 div.sk-estimator:hover {background-color: #d4ebff;}#sk-container-id-1 div.sk-parallel-item::after {content: \"\";width: 100%;border-bottom: 1px solid gray;flex-grow: 1;}#sk-container-id-1 div.sk-label:hover label.sk-toggleable__label {background-color: #d4ebff;}#sk-container-id-1 div.sk-serial::before {content: \"\";position: absolute;border-left: 1px solid gray;box-sizing: border-box;top: 0;bottom: 0;left: 50%;z-index: 0;}#sk-container-id-1 div.sk-serial {display: flex;flex-direction: column;align-items: center;background-color: white;padding-right: 0.2em;padding-left: 0.2em;position: relative;}#sk-container-id-1 div.sk-item {position: relative;z-index: 1;}#sk-container-id-1 div.sk-parallel {display: flex;align-items: stretch;justify-content: center;background-color: white;position: relative;}#sk-container-id-1 div.sk-item::before, #sk-container-id-1 div.sk-parallel-item::before {content: \"\";position: absolute;border-left: 1px solid gray;box-sizing: border-box;top: 0;bottom: 0;left: 50%;z-index: -1;}#sk-container-id-1 div.sk-parallel-item {display: flex;flex-direction: column;z-index: 1;position: relative;background-color: white;}#sk-container-id-1 div.sk-parallel-item:first-child::after {align-self: flex-end;width: 50%;}#sk-container-id-1 div.sk-parallel-item:last-child::after {align-self: flex-start;width: 50%;}#sk-container-id-1 div.sk-parallel-item:only-child::after {width: 0;}#sk-container-id-1 div.sk-dashed-wrapped {border: 1px dashed gray;margin: 0 0.4em 0.5em 0.4em;box-sizing: border-box;padding-bottom: 0.4em;background-color: white;}#sk-container-id-1 div.sk-label label {font-family: monospace;font-weight: bold;display: inline-block;line-height: 1.2em;}#sk-container-id-1 div.sk-label-container {text-align: center;}#sk-container-id-1 div.sk-container {/* jupyter's `normalize.less` sets `[hidden] { display: none; }` but bootstrap.min.css set `[hidden] { display: none !important; }` so we also need the `!important` here to be able to override the default hidden behavior on the sphinx rendered scikit-learn.org. See: https://github.com/scikit-learn/scikit-learn/issues/21755 */display: inline-block !important;position: relative;}#sk-container-id-1 div.sk-text-repr-fallback {display: none;}</style><div id=\"sk-container-id-1\" class=\"sk-top-container\"><div class=\"sk-text-repr-fallback\"><pre>LogisticRegression()</pre><b>In a Jupyter environment, please rerun this cell to show the HTML representation or trust the notebook. <br />On GitHub, the HTML representation is unable to render, please try loading this page with nbviewer.org.</b></div><div class=\"sk-container\" hidden><div class=\"sk-item\"><div class=\"sk-estimator sk-toggleable\"><input class=\"sk-toggleable__control sk-hidden--visually\" id=\"sk-estimator-id-1\" type=\"checkbox\" checked><label for=\"sk-estimator-id-1\" class=\"sk-toggleable__label sk-toggleable__label-arrow\">LogisticRegression</label><div class=\"sk-toggleable__content\"><pre>LogisticRegression()</pre></div></div></div></div></div>"
            ],
            "text/plain": [
              "LogisticRegression()"
            ]
          },
          "execution_count": 25,
          "metadata": {},
          "output_type": "execute_result"
        }
      ],
      "source": [
        "# training the Logistic Regression Model with Training Data\n",
        "model.fit(X_train, Y_train)"
      ]
    },
    {
      "cell_type": "markdown",
      "metadata": {
        "id": "H9FYWyKjalvC"
      },
      "source": [
        "Model Evaluation"
      ]
    },
    {
      "cell_type": "markdown",
      "metadata": {
        "id": "O6O6kbwYaoxH"
      },
      "source": [
        "Accuracy Score"
      ]
    },
    {
      "cell_type": "code",
      "execution_count": 26,
      "metadata": {
        "id": "pC2kCJhOaage"
      },
      "outputs": [],
      "source": [
        "# accuracy on training data\n",
        "X_train_prediction = model.predict(X_train)\n",
        "training_data_accuracy = accuracy_score(X_train_prediction, Y_train)"
      ]
    },
    {
      "cell_type": "code",
      "execution_count": 27,
      "metadata": {
        "colab": {
          "base_uri": "https://localhost:8080/"
        },
        "id": "Ijq6gAevbDwm",
        "outputId": "a4f3a9db-5647-4c32-be8e-6d2ce4bce64d"
      },
      "outputs": [
        {
          "name": "stdout",
          "output_type": "stream",
          "text": [
            "Accuracy on Training data :  0.940279542566709\n"
          ]
        }
      ],
      "source": [
        "print('Accuracy on Training data : ', training_data_accuracy)"
      ]
    },
    {
      "cell_type": "code",
      "execution_count": 28,
      "metadata": {
        "id": "tryJUs6mbJM7"
      },
      "outputs": [],
      "source": [
        "# accuracy on test data\n",
        "X_test_prediction = model.predict(X_test)\n",
        "test_data_accuracy = accuracy_score(X_test_prediction, Y_test)"
      ]
    },
    {
      "cell_type": "code",
      "execution_count": 29,
      "metadata": {
        "colab": {
          "base_uri": "https://localhost:8080/"
        },
        "id": "lxEuN24ib3hS",
        "outputId": "6e3823f1-3caf-43d9-e022-953f9cfa2d59"
      },
      "outputs": [
        {
          "name": "stdout",
          "output_type": "stream",
          "text": [
            "Accuracy score on Test Data :  0.9238578680203046\n"
          ]
        }
      ],
      "source": [
        "print('Accuracy score on Test Data : ', test_data_accuracy)"
      ]
    },
    {
      "cell_type": "code",
      "execution_count": 30,
      "metadata": {
        "colab": {
          "base_uri": "https://localhost:8080/"
        },
        "id": "t96sZBE96-fs",
        "outputId": "d98901c5-614d-4699-cdb4-700200ee3e9c"
      },
      "outputs": [
        {
          "name": "stdout",
          "output_type": "stream",
          "text": [
            "Model saved as model.pkl\n"
          ]
        }
      ],
      "source": [
        "import joblib\n",
        "\n",
        "# Save the trained model to a file\n",
        "joblib.dump(model, 'model.pkl')\n",
        "print(\"Model saved as model.pkl\")\n"
      ]
    },
    {
      "cell_type": "code",
      "execution_count": 31,
      "metadata": {
        "colab": {
          "base_uri": "https://localhost:8080/"
        },
        "id": "a5mzjUdtEszM",
        "outputId": "c3624e90-9be9-4c10-9b69-1b14f5a8c7cf"
      },
      "outputs": [
        {
          "name": "stdout",
          "output_type": "stream",
          "text": [
            "Requirement already satisfied: mlflow in f:\\bds-6a\\bds-7a\\big data analytics\\solvedassignment\\assignmnet#04\\venv\\lib\\site-packages (2.8.0)\n",
            "Requirement already satisfied: click<9,>=7.0 in f:\\bds-6a\\bds-7a\\big data analytics\\solvedassignment\\assignmnet#04\\venv\\lib\\site-packages (from mlflow) (8.2.1)\n",
            "Requirement already satisfied: cloudpickle<3 in f:\\bds-6a\\bds-7a\\big data analytics\\solvedassignment\\assignmnet#04\\venv\\lib\\site-packages (from mlflow) (2.2.1)\n",
            "Requirement already satisfied: databricks-cli<1,>=0.8.7 in f:\\bds-6a\\bds-7a\\big data analytics\\solvedassignment\\assignmnet#04\\venv\\lib\\site-packages (from mlflow) (0.18.0)\n",
            "Requirement already satisfied: entrypoints<1 in f:\\bds-6a\\bds-7a\\big data analytics\\solvedassignment\\assignmnet#04\\venv\\lib\\site-packages (from mlflow) (0.4)\n",
            "Requirement already satisfied: gitpython<4,>=2.1.0 in f:\\bds-6a\\bds-7a\\big data analytics\\solvedassignment\\assignmnet#04\\venv\\lib\\site-packages (from mlflow) (3.1.44)\n",
            "Requirement already satisfied: pyyaml<7,>=5.1 in f:\\bds-6a\\bds-7a\\big data analytics\\solvedassignment\\assignmnet#04\\venv\\lib\\site-packages (from mlflow) (6.0.2)\n",
            "Requirement already satisfied: protobuf<5,>=3.12.0 in f:\\bds-6a\\bds-7a\\big data analytics\\solvedassignment\\assignmnet#04\\venv\\lib\\site-packages (from mlflow) (4.25.8)\n",
            "Requirement already satisfied: pytz<2024 in f:\\bds-6a\\bds-7a\\big data analytics\\solvedassignment\\assignmnet#04\\venv\\lib\\site-packages (from mlflow) (2023.4)\n",
            "Requirement already satisfied: requests<3,>=2.17.3 in f:\\bds-6a\\bds-7a\\big data analytics\\solvedassignment\\assignmnet#04\\venv\\lib\\site-packages (from mlflow) (2.32.3)\n",
            "Collecting packaging<24 (from mlflow)\n",
            "  Using cached packaging-23.2-py3-none-any.whl.metadata (3.2 kB)\n",
            "Requirement already satisfied: importlib-metadata!=4.7.0,<7,>=3.7.0 in f:\\bds-6a\\bds-7a\\big data analytics\\solvedassignment\\assignmnet#04\\venv\\lib\\site-packages (from mlflow) (6.11.0)\n",
            "Requirement already satisfied: sqlparse<1,>=0.4.0 in f:\\bds-6a\\bds-7a\\big data analytics\\solvedassignment\\assignmnet#04\\venv\\lib\\site-packages (from mlflow) (0.5.3)\n",
            "Requirement already satisfied: alembic!=1.10.0,<2 in f:\\bds-6a\\bds-7a\\big data analytics\\solvedassignment\\assignmnet#04\\venv\\lib\\site-packages (from mlflow) (1.16.1)\n",
            "Requirement already satisfied: docker<7,>=4.0.0 in f:\\bds-6a\\bds-7a\\big data analytics\\solvedassignment\\assignmnet#04\\venv\\lib\\site-packages (from mlflow) (6.1.3)\n",
            "Requirement already satisfied: Flask<4 in f:\\bds-6a\\bds-7a\\big data analytics\\solvedassignment\\assignmnet#04\\venv\\lib\\site-packages (from mlflow) (3.1.1)\n",
            "Requirement already satisfied: numpy<2 in f:\\bds-6a\\bds-7a\\big data analytics\\solvedassignment\\assignmnet#04\\venv\\lib\\site-packages (from mlflow) (1.24.3)\n",
            "Requirement already satisfied: scipy<2 in f:\\bds-6a\\bds-7a\\big data analytics\\solvedassignment\\assignmnet#04\\venv\\lib\\site-packages (from mlflow) (1.15.3)\n",
            "Requirement already satisfied: pandas<3 in f:\\bds-6a\\bds-7a\\big data analytics\\solvedassignment\\assignmnet#04\\venv\\lib\\site-packages (from mlflow) (2.0.3)\n",
            "Requirement already satisfied: querystring-parser<2 in f:\\bds-6a\\bds-7a\\big data analytics\\solvedassignment\\assignmnet#04\\venv\\lib\\site-packages (from mlflow) (1.2.4)\n",
            "Requirement already satisfied: sqlalchemy<3,>=1.4.0 in f:\\bds-6a\\bds-7a\\big data analytics\\solvedassignment\\assignmnet#04\\venv\\lib\\site-packages (from mlflow) (2.0.41)\n",
            "Requirement already satisfied: scikit-learn<2 in f:\\bds-6a\\bds-7a\\big data analytics\\solvedassignment\\assignmnet#04\\venv\\lib\\site-packages (from mlflow) (1.3.0)\n",
            "Requirement already satisfied: pyarrow<14,>=4.0.0 in f:\\bds-6a\\bds-7a\\big data analytics\\solvedassignment\\assignmnet#04\\venv\\lib\\site-packages (from mlflow) (13.0.0)\n",
            "Requirement already satisfied: markdown<4,>=3.3 in f:\\bds-6a\\bds-7a\\big data analytics\\solvedassignment\\assignmnet#04\\venv\\lib\\site-packages (from mlflow) (3.8)\n",
            "Requirement already satisfied: matplotlib<4 in f:\\bds-6a\\bds-7a\\big data analytics\\solvedassignment\\assignmnet#04\\venv\\lib\\site-packages (from mlflow) (3.10.3)\n",
            "Collecting psutil<6 (from mlflow)\n",
            "  Using cached psutil-5.9.8-cp37-abi3-win_amd64.whl.metadata (22 kB)\n",
            "Requirement already satisfied: waitress<3 in f:\\bds-6a\\bds-7a\\big data analytics\\solvedassignment\\assignmnet#04\\venv\\lib\\site-packages (from mlflow) (2.1.2)\n",
            "Requirement already satisfied: Jinja2<4,>=3.0 in f:\\bds-6a\\bds-7a\\big data analytics\\solvedassignment\\assignmnet#04\\venv\\lib\\site-packages (from mlflow) (3.1.6)\n",
            "Requirement already satisfied: Mako in f:\\bds-6a\\bds-7a\\big data analytics\\solvedassignment\\assignmnet#04\\venv\\lib\\site-packages (from alembic!=1.10.0,<2->mlflow) (1.3.10)\n",
            "Requirement already satisfied: typing-extensions>=4.12 in f:\\bds-6a\\bds-7a\\big data analytics\\solvedassignment\\assignmnet#04\\venv\\lib\\site-packages (from alembic!=1.10.0,<2->mlflow) (4.13.2)\n",
            "Requirement already satisfied: colorama in f:\\bds-6a\\bds-7a\\big data analytics\\solvedassignment\\assignmnet#04\\venv\\lib\\site-packages (from click<9,>=7.0->mlflow) (0.4.6)\n",
            "Requirement already satisfied: pyjwt>=1.7.0 in f:\\bds-6a\\bds-7a\\big data analytics\\solvedassignment\\assignmnet#04\\venv\\lib\\site-packages (from databricks-cli<1,>=0.8.7->mlflow) (2.10.1)\n",
            "Requirement already satisfied: oauthlib>=3.1.0 in f:\\bds-6a\\bds-7a\\big data analytics\\solvedassignment\\assignmnet#04\\venv\\lib\\site-packages (from databricks-cli<1,>=0.8.7->mlflow) (3.2.2)\n",
            "Requirement already satisfied: tabulate>=0.7.7 in f:\\bds-6a\\bds-7a\\big data analytics\\solvedassignment\\assignmnet#04\\venv\\lib\\site-packages (from databricks-cli<1,>=0.8.7->mlflow) (0.9.0)\n",
            "Requirement already satisfied: six>=1.10.0 in f:\\bds-6a\\bds-7a\\big data analytics\\solvedassignment\\assignmnet#04\\venv\\lib\\site-packages (from databricks-cli<1,>=0.8.7->mlflow) (1.17.0)\n",
            "Requirement already satisfied: urllib3<3,>=1.26.7 in f:\\bds-6a\\bds-7a\\big data analytics\\solvedassignment\\assignmnet#04\\venv\\lib\\site-packages (from databricks-cli<1,>=0.8.7->mlflow) (2.4.0)\n",
            "Requirement already satisfied: websocket-client>=0.32.0 in f:\\bds-6a\\bds-7a\\big data analytics\\solvedassignment\\assignmnet#04\\venv\\lib\\site-packages (from docker<7,>=4.0.0->mlflow) (1.8.0)\n",
            "Requirement already satisfied: pywin32>=304 in f:\\bds-6a\\bds-7a\\big data analytics\\solvedassignment\\assignmnet#04\\venv\\lib\\site-packages (from docker<7,>=4.0.0->mlflow) (310)\n",
            "Requirement already satisfied: blinker>=1.9.0 in f:\\bds-6a\\bds-7a\\big data analytics\\solvedassignment\\assignmnet#04\\venv\\lib\\site-packages (from Flask<4->mlflow) (1.9.0)\n",
            "Requirement already satisfied: itsdangerous>=2.2.0 in f:\\bds-6a\\bds-7a\\big data analytics\\solvedassignment\\assignmnet#04\\venv\\lib\\site-packages (from Flask<4->mlflow) (2.2.0)\n",
            "Requirement already satisfied: markupsafe>=2.1.1 in f:\\bds-6a\\bds-7a\\big data analytics\\solvedassignment\\assignmnet#04\\venv\\lib\\site-packages (from Flask<4->mlflow) (3.0.2)\n",
            "Requirement already satisfied: werkzeug>=3.1.0 in f:\\bds-6a\\bds-7a\\big data analytics\\solvedassignment\\assignmnet#04\\venv\\lib\\site-packages (from Flask<4->mlflow) (3.1.3)\n",
            "Requirement already satisfied: gitdb<5,>=4.0.1 in f:\\bds-6a\\bds-7a\\big data analytics\\solvedassignment\\assignmnet#04\\venv\\lib\\site-packages (from gitpython<4,>=2.1.0->mlflow) (4.0.12)\n",
            "Requirement already satisfied: smmap<6,>=3.0.1 in f:\\bds-6a\\bds-7a\\big data analytics\\solvedassignment\\assignmnet#04\\venv\\lib\\site-packages (from gitdb<5,>=4.0.1->gitpython<4,>=2.1.0->mlflow) (5.0.2)\n",
            "Requirement already satisfied: zipp>=0.5 in f:\\bds-6a\\bds-7a\\big data analytics\\solvedassignment\\assignmnet#04\\venv\\lib\\site-packages (from importlib-metadata!=4.7.0,<7,>=3.7.0->mlflow) (3.22.0)\n",
            "Requirement already satisfied: contourpy>=1.0.1 in f:\\bds-6a\\bds-7a\\big data analytics\\solvedassignment\\assignmnet#04\\venv\\lib\\site-packages (from matplotlib<4->mlflow) (1.3.2)\n",
            "Requirement already satisfied: cycler>=0.10 in f:\\bds-6a\\bds-7a\\big data analytics\\solvedassignment\\assignmnet#04\\venv\\lib\\site-packages (from matplotlib<4->mlflow) (0.12.1)\n",
            "Requirement already satisfied: fonttools>=4.22.0 in f:\\bds-6a\\bds-7a\\big data analytics\\solvedassignment\\assignmnet#04\\venv\\lib\\site-packages (from matplotlib<4->mlflow) (4.58.1)\n",
            "Requirement already satisfied: kiwisolver>=1.3.1 in f:\\bds-6a\\bds-7a\\big data analytics\\solvedassignment\\assignmnet#04\\venv\\lib\\site-packages (from matplotlib<4->mlflow) (1.4.8)\n",
            "Requirement already satisfied: pillow>=8 in f:\\bds-6a\\bds-7a\\big data analytics\\solvedassignment\\assignmnet#04\\venv\\lib\\site-packages (from matplotlib<4->mlflow) (10.4.0)\n",
            "Requirement already satisfied: pyparsing>=2.3.1 in f:\\bds-6a\\bds-7a\\big data analytics\\solvedassignment\\assignmnet#04\\venv\\lib\\site-packages (from matplotlib<4->mlflow) (3.2.3)\n",
            "Requirement already satisfied: python-dateutil>=2.7 in f:\\bds-6a\\bds-7a\\big data analytics\\solvedassignment\\assignmnet#04\\venv\\lib\\site-packages (from matplotlib<4->mlflow) (2.9.0.post0)\n",
            "Requirement already satisfied: tzdata>=2022.1 in f:\\bds-6a\\bds-7a\\big data analytics\\solvedassignment\\assignmnet#04\\venv\\lib\\site-packages (from pandas<3->mlflow) (2025.2)\n",
            "Requirement already satisfied: charset-normalizer<4,>=2 in f:\\bds-6a\\bds-7a\\big data analytics\\solvedassignment\\assignmnet#04\\venv\\lib\\site-packages (from requests<3,>=2.17.3->mlflow) (3.4.2)\n",
            "Requirement already satisfied: idna<4,>=2.5 in f:\\bds-6a\\bds-7a\\big data analytics\\solvedassignment\\assignmnet#04\\venv\\lib\\site-packages (from requests<3,>=2.17.3->mlflow) (3.10)\n",
            "Requirement already satisfied: certifi>=2017.4.17 in f:\\bds-6a\\bds-7a\\big data analytics\\solvedassignment\\assignmnet#04\\venv\\lib\\site-packages (from requests<3,>=2.17.3->mlflow) (2025.4.26)\n",
            "Requirement already satisfied: joblib>=1.1.1 in f:\\bds-6a\\bds-7a\\big data analytics\\solvedassignment\\assignmnet#04\\venv\\lib\\site-packages (from scikit-learn<2->mlflow) (1.3.2)\n",
            "Requirement already satisfied: threadpoolctl>=2.0.0 in f:\\bds-6a\\bds-7a\\big data analytics\\solvedassignment\\assignmnet#04\\venv\\lib\\site-packages (from scikit-learn<2->mlflow) (3.6.0)\n",
            "Requirement already satisfied: greenlet>=1 in f:\\bds-6a\\bds-7a\\big data analytics\\solvedassignment\\assignmnet#04\\venv\\lib\\site-packages (from sqlalchemy<3,>=1.4.0->mlflow) (3.2.2)\n",
            "Using cached packaging-23.2-py3-none-any.whl (53 kB)\n",
            "Using cached psutil-5.9.8-cp37-abi3-win_amd64.whl (255 kB)\n",
            "Installing collected packages: psutil, packaging\n",
            "\n",
            "  Attempting uninstall: psutil\n",
            "\n",
            "    Found existing installation: psutil 7.0.0\n",
            "\n",
            "    Uninstalling psutil-7.0.0:\n",
            "\n",
            "      Successfully uninstalled psutil-7.0.0\n",
            "\n",
            "   ---------------------------------------- 0/2 [psutil]\n",
            "   ---------------------------------------- 0/2 [psutil]\n",
            "   ---------------------------------------- 0/2 [psutil]\n",
            "   ---------------------------------------- 0/2 [psutil]\n",
            "   ---------------------------------------- 0/2 [psutil]\n",
            "   ---------------------------------------- 0/2 [psutil]\n",
            "   ---------------------------------------- 0/2 [psutil]\n",
            "   ---------------------------------------- 0/2 [psutil]\n",
            "   ---------------------------------------- 0/2 [psutil]\n",
            "   ---------------------------------------- 0/2 [psutil]\n",
            "   ---------------------------------------- 0/2 [psutil]\n",
            "   ---------------------------------------- 0/2 [psutil]\n",
            "   ---------------------------------------- 0/2 [psutil]\n",
            "   ---------------------------------------- 0/2 [psutil]\n",
            "   ---------------------------------------- 0/2 [psutil]\n",
            "   ---------------------------------------- 0/2 [psutil]\n",
            "   ---------------------------------------- 0/2 [psutil]\n",
            "   ---------------------------------------- 0/2 [psutil]\n",
            "   ---------------------------------------- 0/2 [psutil]\n",
            "   ---------------------------------------- 0/2 [psutil]\n",
            "   ---------------------------------------- 0/2 [psutil]\n",
            "  Attempting uninstall: packaging\n",
            "   ---------------------------------------- 0/2 [psutil]\n",
            "    Found existing installation: packaging 24.2\n",
            "   ---------------------------------------- 0/2 [psutil]\n",
            "    Uninstalling packaging-24.2:\n",
            "   ---------------------------------------- 0/2 [psutil]\n",
            "      Successfully uninstalled packaging-24.2\n",
            "   ---------------------------------------- 0/2 [psutil]\n",
            "   -------------------- ------------------- 1/2 [packaging]\n",
            "   -------------------- ------------------- 1/2 [packaging]\n",
            "   ---------------------------------------- 2/2 [packaging]\n",
            "\n",
            "Successfully installed packaging-23.2 psutil-5.9.8\n",
            "Note: you may need to restart the kernel to use updated packages.\n"
          ]
        },
        {
          "name": "stderr",
          "output_type": "stream",
          "text": [
            "  WARNING: Failed to remove contents in a temporary directory 'F:\\BDS-6A\\BDS-7A\\Big Data Analytics\\SolvedAssignment\\Assignmnet#04\\venv\\Lib\\site-packages\\~sutil'.\n",
            "  You can safely remove it manually.\n"
          ]
        }
      ],
      "source": [
        "pip install mlflow\n"
      ]
    },
    {
      "cell_type": "code",
      "execution_count": 36,
      "metadata": {},
      "outputs": [],
      "source": [
        "import mlflow\n",
        "mlflow.set_tracking_uri(\"http://localhost:5000\") # Tells notebook to send data to your running server"
      ]
    },
    {
      "cell_type": "code",
      "execution_count": 37,
      "metadata": {
        "colab": {
          "base_uri": "https://localhost:8080/"
        },
        "id": "ZPuhrsdW63_J",
        "outputId": "818e6b95-9d71-4ccb-b61b-04b305cb6341"
      },
      "outputs": [
        {
          "name": "stderr",
          "output_type": "stream",
          "text": [
            "2025/05/31 16:11:38 INFO mlflow.tracking.fluent: Experiment with name 'CreditCardFraudDetection' does not exist. Creating a new experiment.\n",
            "f:\\BDS-6A\\BDS-7A\\Big Data Analytics\\SolvedAssignment\\Assignmnet#04\\venv\\Lib\\site-packages\\_distutils_hack\\__init__.py:15: UserWarning: Distutils was imported before Setuptools, but importing Setuptools also replaces the `distutils` module in `sys.modules`. This may lead to undesirable behaviors or errors. To avoid these issues, avoid using distutils directly, ensure that setuptools is installed in the traditional way (e.g. not an editable install), and/or make sure that setuptools is always imported before distutils.\n",
            "  warnings.warn(\n",
            "f:\\BDS-6A\\BDS-7A\\Big Data Analytics\\SolvedAssignment\\Assignmnet#04\\venv\\Lib\\site-packages\\_distutils_hack\\__init__.py:30: UserWarning: Setuptools is replacing distutils. Support for replacing an already imported distutils is deprecated. In the future, this condition will fail. Register concerns at https://github.com/pypa/setuptools/issues/new?template=distutils-deprecation.yml\n",
            "  warnings.warn(\n"
          ]
        },
        {
          "name": "stdout",
          "output_type": "stream",
          "text": [
            "Model and metrics logged to MLflow.\n"
          ]
        }
      ],
      "source": [
        "import mlflow\n",
        "import mlflow.sklearn\n",
        "\n",
        "# Set the experiment name\n",
        "mlflow.set_experiment(\"CreditCardFraudDetection\")\n",
        "\n",
        "with mlflow.start_run():\n",
        "    mlflow.log_param(\"model_type\", \"LogisticRegression\")\n",
        "    mlflow.log_metric(\"train_accuracy\", training_data_accuracy)\n",
        "    mlflow.log_metric(\"test_accuracy\", test_data_accuracy)\n",
        "    mlflow.sklearn.log_model(model, \"model\")\n",
        "    print(\"Model and metrics logged to MLflow.\")\n"
      ]
    },
    {
      "cell_type": "code",
      "execution_count": 38,
      "metadata": {},
      "outputs": [
        {
          "data": {
            "text/plain": [
              "<Experiment: artifact_location=('file:///F:/BDS-6A/BDS-7A/Big Data '\n",
              " 'Analytics/SolvedAssignment/Assignmnet/1#04/mlruns'), creation_time=1748733098922, experiment_id='1', last_update_time=1748733098922, lifecycle_stage='active', name='CreditCardFraudDetection', tags={}>"
            ]
          },
          "execution_count": 38,
          "metadata": {},
          "output_type": "execute_result"
        }
      ],
      "source": [
        "experiment_name = \"CreditCardFraudDetection\" # Or your preferred name\n",
        "mlflow.set_experiment(experiment_name)"
      ]
    },
    {
      "cell_type": "code",
      "execution_count": 40,
      "metadata": {},
      "outputs": [
        {
          "name": "stdout",
          "output_type": "stream",
          "text": [
            "Starting run: LR_Baseline_Run\n"
          ]
        },
        {
          "name": "stderr",
          "output_type": "stream",
          "text": [
            "f:\\BDS-6A\\BDS-7A\\Big Data Analytics\\SolvedAssignment\\Assignmnet#04\\venv\\Lib\\site-packages\\_distutils_hack\\__init__.py:15: UserWarning: Distutils was imported before Setuptools, but importing Setuptools also replaces the `distutils` module in `sys.modules`. This may lead to undesirable behaviors or errors. To avoid these issues, avoid using distutils directly, ensure that setuptools is installed in the traditional way (e.g. not an editable install), and/or make sure that setuptools is always imported before distutils.\n",
            "  warnings.warn(\n",
            "f:\\BDS-6A\\BDS-7A\\Big Data Analytics\\SolvedAssignment\\Assignmnet#04\\venv\\Lib\\site-packages\\_distutils_hack\\__init__.py:30: UserWarning: Setuptools is replacing distutils. Support for replacing an already imported distutils is deprecated. In the future, this condition will fail. Register concerns at https://github.com/pypa/setuptools/issues/new?template=distutils-deprecation.yml\n",
            "  warnings.warn(\n"
          ]
        },
        {
          "name": "stdout",
          "output_type": "stream",
          "text": [
            "Model logged to MLflow artifact path: fraud_detection_model\n",
            "Model also saved locally to ml/model.pkl for the backend app.\n",
            "MLflow Run ID: f71defa1f5984c55ba76831742b08701\n",
            "MLflow run completed.\n"
          ]
        }
      ],
      "source": [
        "        import mlflow\n",
        "        import mlflow.sklearn\n",
        "        from sklearn.linear_model import LogisticRegression # Or your actual model\n",
        "        from sklearn.model_selection import train_test_split\n",
        "        from sklearn.metrics import accuracy_score, precision_score, recall_score # Add others you need\n",
        "        import pandas as pd\n",
        "        import numpy as np\n",
        "        import joblib # For saving the model locally as model.pkl too\n",
        "\n",
        "        # --- Configure MLflow ---\n",
        "        mlflow.set_tracking_uri(\"http://localhost:5000\")\n",
        "        experiment_name = \"CreditCardFraudDetection_LogisticReg\" # Be specific if you try multiple models\n",
        "        mlflow.set_experiment(experiment_name)\n",
        "\n",
        "        # --- Load and Prepare Your Data ---\n",
        "        credit_card_data = pd.read_csv('creditcard.csv')\n",
        "        # ... (your data preprocessing, splitting into X, Y, legit, fraud, new_dataset) ...\n",
        "        X = new_dataset.drop(columns='Class', axis=1)\n",
        "        Y = new_dataset['Class']\n",
        "        X_train, X_test, Y_train, Y_test = train_test_split(X, Y, test_size=0.2, stratify=Y, random_state=2)\n",
        "\n",
        "        # --- Start an MLflow Run ---\n",
        "        with mlflow.start_run(run_name=\"LR_Baseline_Run\"): # Give a descriptive name to the run\n",
        "            print(f\"Starting run: {mlflow.active_run().info.run_name}\")\n",
        "\n",
        "            # --- Train Your Model ---\n",
        "            # Example: model = LogisticRegression(solver='liblinear', C=1.0, random_state=42)\n",
        "            model = LogisticRegression() # Use your actual model instantiation\n",
        "            model.fit(X_train, Y_train)\n",
        "\n",
        "            # --- Make Predictions (example) ---\n",
        "            Y_pred_train = model.predict(X_train)\n",
        "            Y_pred_test = model.predict(X_test)\n",
        "\n",
        "            # --- Calculate Metrics (replace with your actual metrics) ---\n",
        "            training_data_accuracy = accuracy_score(Y_train, Y_pred_train)\n",
        "            test_data_accuracy = accuracy_score(Y_test, Y_pred_test)\n",
        "            test_precision = precision_score(Y_test, Y_pred_test)\n",
        "            test_recall = recall_score(Y_test, Y_pred_test)\n",
        "            # ... add other metrics\n",
        "\n",
        "            # --- Log Parameters ---\n",
        "            mlflow.log_param(\"model_type\", model.__class__.__name__)\n",
        "            # Log actual parameters used for the model\n",
        "            # For LogisticRegression, common ones:\n",
        "            mlflow.log_param(\"solver\", model.get_params().get(\"solver\", \"default\"))\n",
        "            mlflow.log_param(\"C\", model.get_params().get(\"C\", \"default\"))\n",
        "            mlflow.log_param(\"penalty\", model.get_params().get(\"penalty\", \"default\"))\n",
        "            mlflow.log_param(\"random_state\", model.get_params().get(\"random_state\", \"default\"))\n",
        "            # Add any other parameters you are tuning or are important\n",
        "\n",
        "            # --- Log Metrics ---\n",
        "            mlflow.log_metric(\"train_accuracy\", training_data_accuracy)\n",
        "            mlflow.log_metric(\"test_accuracy\", test_data_accuracy)\n",
        "            mlflow.log_metric(\"test_precision\", test_precision)\n",
        "            mlflow.log_metric(\"test_recall\", test_recall)\n",
        "            # ... log other relevant metrics (F1, ROC AUC etc.) for test and optionally train\n",
        "\n",
        "            # --- Log Tags ---\n",
        "            mlflow.set_tag(\"data_source\", \"creditcard.csv\")\n",
        "            mlflow.set_tag(\"sampling_strategy\", \"undersampling_legit_to_fraud_count\") # Or describe your strategy\n",
        "            mlflow.set_tag(\"description\", \"Initial baseline run with Logistic Regression.\")\n",
        "            mlflow.set_tag(\"developer\", \"YourName\")\n",
        "\n",
        "\n",
        "            # --- Log Model with MLflow ---\n",
        "            # This logs the model to MLflow's artifact store (./mlruns directory by default)\n",
        "            # The \"model\" argument is the artifact path within this specific run.\n",
        "            mlflow.sklearn.log_model(\n",
        "                sk_model=model,\n",
        "                artifact_path=\"fraud_detection_model\", # Changed for clarity\n",
        "                # You can also add registered_model_name to register it directly\n",
        "                # registered_model_name=\"CreditCardFraudDetector\"\n",
        "            )\n",
        "            print(f\"Model logged to MLflow artifact path: fraud_detection_model\")\n",
        "\n",
        "            # --- Save the model ALSO as model.pkl for your FastAPI app ---\n",
        "            # This is separate from MLflow logging but required by your current backend setup\n",
        "            # Ensure the 'ml' directory exists relative to your notebook's location\n",
        "            # If your notebook is in 'ml/', then 'model.pkl' is fine.\n",
        "            # If notebook is in root, use 'ml/model.pkl'.\n",
        "            # Assuming notebook is in 'ml/' directory:\n",
        "            joblib.dump(model, 'model.pkl')\n",
        "            print(f\"Model also saved locally to ml/model.pkl for the backend app.\")\n",
        "\n",
        "            run_id = mlflow.active_run().info.run_id\n",
        "            print(f\"MLflow Run ID: {run_id}\")\n",
        "\n",
        "        print(\"MLflow run completed.\")"
      ]
    },
    {
      "cell_type": "code",
      "execution_count": null,
      "metadata": {
        "id": "hxAVDQ8K7g2A"
      },
      "outputs": [],
      "source": []
    }
  ],
  "metadata": {
    "accelerator": "GPU",
    "colab": {
      "gpuType": "T4",
      "provenance": []
    },
    "kernelspec": {
      "display_name": "venv",
      "language": "python",
      "name": "python3"
    },
    "language_info": {
      "codemirror_mode": {
        "name": "ipython",
        "version": 3
      },
      "file_extension": ".py",
      "mimetype": "text/x-python",
      "name": "python",
      "nbconvert_exporter": "python",
      "pygments_lexer": "ipython3",
      "version": "3.11.8"
    }
  },
  "nbformat": 4,
  "nbformat_minor": 0
}
